{
 "cells": [
  {
   "cell_type": "markdown",
   "id": "67b38fa9",
   "metadata": {},
   "source": [
    "### objective: The aim behind this analysis of flight price prediction is study of flight booking dataset and performing various Exploratory Data Analysis technique and then building a machine learning model to prdect the flight price\n",
    "\n",
    "Dataset: https://www.kaggle.com/datasets/swatikhedekar/flight-price-prediction-eda-and-fe?resource=download\n",
    "\n",
    "Research Questions\n",
    "The aim of our study is to answer the below research questions:\n",
    "a) Does price vary with Airlines?\n",
    "b) How is the price affected when tickets are bought in just 1 or 2 days before departure?\n",
    "c) Does ticket price change based on the departure time and arrival time?\n",
    "d) How the price changes with change in Source and Destination?\n",
    "e) How does the ticket price vary between Economy and Business class?"
   ]
  },
  {
   "cell_type": "code",
   "execution_count": 126,
   "id": "c8a1d8d1",
   "metadata": {},
   "outputs": [],
   "source": [
    "import pandas as pd \n",
    "import numpy as np\n",
    "import seaborn as sns\n",
    "from datasist.structdata import detect_outliers\n",
    "from category_encoders import BinaryEncoder\n",
    "from sklearn.preprocessing import RobustScaler\n",
    "from sklearn . feature_selection import SequentialFeatureSelector\n",
    "from sklearn . pipeline import Pipeline\n",
    "from sklearn.tree import DecisionTreeRegressor\n",
    "from sklearn.ensemble import RandomForestRegressor\n",
    "from sklearn.linear_model import LinearRegression\n",
    "from xgboost import XGBRegressor\n",
    "from sklearn.metrics import mean_squared_error"
   ]
  },
  {
   "cell_type": "code",
   "execution_count": 127,
   "id": "499037d2",
   "metadata": {},
   "outputs": [],
   "source": [
    "df= pd.read_excel('C:/Users/BH/Downloads/flights_data.xlsx')"
   ]
  },
  {
   "cell_type": "code",
   "execution_count": 128,
   "id": "f2115d8c",
   "metadata": {},
   "outputs": [
    {
     "data": {
      "text/html": [
       "<div>\n",
       "<style scoped>\n",
       "    .dataframe tbody tr th:only-of-type {\n",
       "        vertical-align: middle;\n",
       "    }\n",
       "\n",
       "    .dataframe tbody tr th {\n",
       "        vertical-align: top;\n",
       "    }\n",
       "\n",
       "    .dataframe thead th {\n",
       "        text-align: right;\n",
       "    }\n",
       "</style>\n",
       "<table border=\"1\" class=\"dataframe\">\n",
       "  <thead>\n",
       "    <tr style=\"text-align: right;\">\n",
       "      <th></th>\n",
       "      <th>Airline</th>\n",
       "      <th>Date_of_Journey</th>\n",
       "      <th>Source</th>\n",
       "      <th>Destination</th>\n",
       "      <th>Route</th>\n",
       "      <th>Dep_Time</th>\n",
       "      <th>Arrival_Time</th>\n",
       "      <th>Duration</th>\n",
       "      <th>Total_Stops</th>\n",
       "      <th>Additional_Info</th>\n",
       "      <th>Price</th>\n",
       "    </tr>\n",
       "  </thead>\n",
       "  <tbody>\n",
       "    <tr>\n",
       "      <th>0</th>\n",
       "      <td>IndiGo</td>\n",
       "      <td>24/03/2019</td>\n",
       "      <td>Banglore</td>\n",
       "      <td>New Delhi</td>\n",
       "      <td>BLR → DEL</td>\n",
       "      <td>22:20</td>\n",
       "      <td>01:10 22 Mar</td>\n",
       "      <td>2h 50m</td>\n",
       "      <td>non-stop</td>\n",
       "      <td>No info</td>\n",
       "      <td>3897</td>\n",
       "    </tr>\n",
       "    <tr>\n",
       "      <th>1</th>\n",
       "      <td>Air India</td>\n",
       "      <td>1/05/2019</td>\n",
       "      <td>Kolkata</td>\n",
       "      <td>Banglore</td>\n",
       "      <td>CCU → IXR → BBI → BLR</td>\n",
       "      <td>05:50</td>\n",
       "      <td>13:15</td>\n",
       "      <td>7h 25m</td>\n",
       "      <td>2 stops</td>\n",
       "      <td>No info</td>\n",
       "      <td>7662</td>\n",
       "    </tr>\n",
       "    <tr>\n",
       "      <th>2</th>\n",
       "      <td>Jet Airways</td>\n",
       "      <td>9/06/2019</td>\n",
       "      <td>Delhi</td>\n",
       "      <td>Cochin</td>\n",
       "      <td>DEL → LKO → BOM → COK</td>\n",
       "      <td>09:25</td>\n",
       "      <td>04:25 10 Jun</td>\n",
       "      <td>19h</td>\n",
       "      <td>2 stops</td>\n",
       "      <td>No info</td>\n",
       "      <td>13882</td>\n",
       "    </tr>\n",
       "    <tr>\n",
       "      <th>3</th>\n",
       "      <td>IndiGo</td>\n",
       "      <td>12/05/2019</td>\n",
       "      <td>Kolkata</td>\n",
       "      <td>Banglore</td>\n",
       "      <td>CCU → NAG → BLR</td>\n",
       "      <td>18:05</td>\n",
       "      <td>23:30</td>\n",
       "      <td>5h 25m</td>\n",
       "      <td>1 stop</td>\n",
       "      <td>No info</td>\n",
       "      <td>6218</td>\n",
       "    </tr>\n",
       "    <tr>\n",
       "      <th>4</th>\n",
       "      <td>IndiGo</td>\n",
       "      <td>01/03/2019</td>\n",
       "      <td>Banglore</td>\n",
       "      <td>New Delhi</td>\n",
       "      <td>BLR → NAG → DEL</td>\n",
       "      <td>16:50</td>\n",
       "      <td>21:35</td>\n",
       "      <td>4h 45m</td>\n",
       "      <td>1 stop</td>\n",
       "      <td>No info</td>\n",
       "      <td>13302</td>\n",
       "    </tr>\n",
       "    <tr>\n",
       "      <th>...</th>\n",
       "      <td>...</td>\n",
       "      <td>...</td>\n",
       "      <td>...</td>\n",
       "      <td>...</td>\n",
       "      <td>...</td>\n",
       "      <td>...</td>\n",
       "      <td>...</td>\n",
       "      <td>...</td>\n",
       "      <td>...</td>\n",
       "      <td>...</td>\n",
       "      <td>...</td>\n",
       "    </tr>\n",
       "    <tr>\n",
       "      <th>10678</th>\n",
       "      <td>Air Asia</td>\n",
       "      <td>9/04/2019</td>\n",
       "      <td>Kolkata</td>\n",
       "      <td>Banglore</td>\n",
       "      <td>CCU → BLR</td>\n",
       "      <td>19:55</td>\n",
       "      <td>22:25</td>\n",
       "      <td>2h 30m</td>\n",
       "      <td>non-stop</td>\n",
       "      <td>No info</td>\n",
       "      <td>4107</td>\n",
       "    </tr>\n",
       "    <tr>\n",
       "      <th>10679</th>\n",
       "      <td>Air India</td>\n",
       "      <td>27/04/2019</td>\n",
       "      <td>Kolkata</td>\n",
       "      <td>Banglore</td>\n",
       "      <td>CCU → BLR</td>\n",
       "      <td>20:45</td>\n",
       "      <td>23:20</td>\n",
       "      <td>2h 35m</td>\n",
       "      <td>non-stop</td>\n",
       "      <td>No info</td>\n",
       "      <td>4145</td>\n",
       "    </tr>\n",
       "    <tr>\n",
       "      <th>10680</th>\n",
       "      <td>Jet Airways</td>\n",
       "      <td>27/04/2019</td>\n",
       "      <td>Banglore</td>\n",
       "      <td>Delhi</td>\n",
       "      <td>BLR → DEL</td>\n",
       "      <td>08:20</td>\n",
       "      <td>11:20</td>\n",
       "      <td>3h</td>\n",
       "      <td>non-stop</td>\n",
       "      <td>No info</td>\n",
       "      <td>7229</td>\n",
       "    </tr>\n",
       "    <tr>\n",
       "      <th>10681</th>\n",
       "      <td>Vistara</td>\n",
       "      <td>01/03/2019</td>\n",
       "      <td>Banglore</td>\n",
       "      <td>New Delhi</td>\n",
       "      <td>BLR → DEL</td>\n",
       "      <td>11:30</td>\n",
       "      <td>14:10</td>\n",
       "      <td>2h 40m</td>\n",
       "      <td>non-stop</td>\n",
       "      <td>No info</td>\n",
       "      <td>12648</td>\n",
       "    </tr>\n",
       "    <tr>\n",
       "      <th>10682</th>\n",
       "      <td>Air India</td>\n",
       "      <td>9/05/2019</td>\n",
       "      <td>Delhi</td>\n",
       "      <td>Cochin</td>\n",
       "      <td>DEL → GOI → BOM → COK</td>\n",
       "      <td>10:55</td>\n",
       "      <td>19:15</td>\n",
       "      <td>8h 20m</td>\n",
       "      <td>2 stops</td>\n",
       "      <td>No info</td>\n",
       "      <td>11753</td>\n",
       "    </tr>\n",
       "  </tbody>\n",
       "</table>\n",
       "<p>10683 rows × 11 columns</p>\n",
       "</div>"
      ],
      "text/plain": [
       "           Airline Date_of_Journey    Source Destination  \\\n",
       "0           IndiGo      24/03/2019  Banglore   New Delhi   \n",
       "1        Air India       1/05/2019   Kolkata    Banglore   \n",
       "2      Jet Airways       9/06/2019     Delhi      Cochin   \n",
       "3           IndiGo      12/05/2019   Kolkata    Banglore   \n",
       "4           IndiGo      01/03/2019  Banglore   New Delhi   \n",
       "...            ...             ...       ...         ...   \n",
       "10678     Air Asia       9/04/2019   Kolkata    Banglore   \n",
       "10679    Air India      27/04/2019   Kolkata    Banglore   \n",
       "10680  Jet Airways      27/04/2019  Banglore       Delhi   \n",
       "10681      Vistara      01/03/2019  Banglore   New Delhi   \n",
       "10682    Air India       9/05/2019     Delhi      Cochin   \n",
       "\n",
       "                       Route Dep_Time  Arrival_Time Duration Total_Stops  \\\n",
       "0                  BLR → DEL    22:20  01:10 22 Mar   2h 50m    non-stop   \n",
       "1      CCU → IXR → BBI → BLR    05:50         13:15   7h 25m     2 stops   \n",
       "2      DEL → LKO → BOM → COK    09:25  04:25 10 Jun      19h     2 stops   \n",
       "3            CCU → NAG → BLR    18:05         23:30   5h 25m      1 stop   \n",
       "4            BLR → NAG → DEL    16:50         21:35   4h 45m      1 stop   \n",
       "...                      ...      ...           ...      ...         ...   \n",
       "10678              CCU → BLR    19:55         22:25   2h 30m    non-stop   \n",
       "10679              CCU → BLR    20:45         23:20   2h 35m    non-stop   \n",
       "10680              BLR → DEL    08:20         11:20       3h    non-stop   \n",
       "10681              BLR → DEL    11:30         14:10   2h 40m    non-stop   \n",
       "10682  DEL → GOI → BOM → COK    10:55         19:15   8h 20m     2 stops   \n",
       "\n",
       "      Additional_Info  Price  \n",
       "0             No info   3897  \n",
       "1             No info   7662  \n",
       "2             No info  13882  \n",
       "3             No info   6218  \n",
       "4             No info  13302  \n",
       "...               ...    ...  \n",
       "10678         No info   4107  \n",
       "10679         No info   4145  \n",
       "10680         No info   7229  \n",
       "10681         No info  12648  \n",
       "10682         No info  11753  \n",
       "\n",
       "[10683 rows x 11 columns]"
      ]
     },
     "execution_count": 128,
     "metadata": {},
     "output_type": "execute_result"
    }
   ],
   "source": [
    "df  "
   ]
  },
  {
   "cell_type": "markdown",
   "id": "4bec1090",
   "metadata": {},
   "source": [
    "# info. about data"
   ]
  },
  {
   "cell_type": "code",
   "execution_count": 129,
   "id": "f62c6e3c",
   "metadata": {},
   "outputs": [
    {
     "name": "stdout",
     "output_type": "stream",
     "text": [
      "<class 'pandas.core.frame.DataFrame'>\n",
      "RangeIndex: 10683 entries, 0 to 10682\n",
      "Data columns (total 11 columns):\n",
      " #   Column           Non-Null Count  Dtype \n",
      "---  ------           --------------  ----- \n",
      " 0   Airline          10683 non-null  object\n",
      " 1   Date_of_Journey  10683 non-null  object\n",
      " 2   Source           10683 non-null  object\n",
      " 3   Destination      10683 non-null  object\n",
      " 4   Route            10682 non-null  object\n",
      " 5   Dep_Time         10683 non-null  object\n",
      " 6   Arrival_Time     10683 non-null  object\n",
      " 7   Duration         10683 non-null  object\n",
      " 8   Total_Stops      10682 non-null  object\n",
      " 9   Additional_Info  10683 non-null  object\n",
      " 10  Price            10683 non-null  int64 \n",
      "dtypes: int64(1), object(10)\n",
      "memory usage: 918.2+ KB\n"
     ]
    }
   ],
   "source": [
    "df.info()"
   ]
  },
  {
   "cell_type": "markdown",
   "id": "90976a33",
   "metadata": {},
   "source": [
    "# ckeck_duplicated"
   ]
  },
  {
   "cell_type": "code",
   "execution_count": 130,
   "id": "b0af6d03",
   "metadata": {},
   "outputs": [
    {
     "data": {
      "text/plain": [
       "220"
      ]
     },
     "execution_count": 130,
     "metadata": {},
     "output_type": "execute_result"
    }
   ],
   "source": [
    "df.duplicated().sum()"
   ]
  },
  {
   "cell_type": "code",
   "execution_count": 131,
   "id": "1270885a",
   "metadata": {},
   "outputs": [],
   "source": [
    "df.drop_duplicates(inplace = True)"
   ]
  },
  {
   "cell_type": "code",
   "execution_count": 132,
   "id": "efacd16d",
   "metadata": {},
   "outputs": [
    {
     "name": "stdout",
     "output_type": "stream",
     "text": [
      "<class 'pandas.core.frame.DataFrame'>\n",
      "Int64Index: 10463 entries, 0 to 10682\n",
      "Data columns (total 11 columns):\n",
      " #   Column           Non-Null Count  Dtype \n",
      "---  ------           --------------  ----- \n",
      " 0   Airline          10463 non-null  object\n",
      " 1   Date_of_Journey  10463 non-null  object\n",
      " 2   Source           10463 non-null  object\n",
      " 3   Destination      10463 non-null  object\n",
      " 4   Route            10462 non-null  object\n",
      " 5   Dep_Time         10463 non-null  object\n",
      " 6   Arrival_Time     10463 non-null  object\n",
      " 7   Duration         10463 non-null  object\n",
      " 8   Total_Stops      10462 non-null  object\n",
      " 9   Additional_Info  10463 non-null  object\n",
      " 10  Price            10463 non-null  int64 \n",
      "dtypes: int64(1), object(10)\n",
      "memory usage: 980.9+ KB\n"
     ]
    }
   ],
   "source": [
    "df.info()"
   ]
  },
  {
   "cell_type": "markdown",
   "id": "0fc7e355",
   "metadata": {},
   "source": [
    "# Univariate Analysis"
   ]
  },
  {
   "cell_type": "markdown",
   "id": "d371117e",
   "metadata": {},
   "source": [
    "1) Airline"
   ]
  },
  {
   "cell_type": "code",
   "execution_count": 133,
   "id": "56ff66a5",
   "metadata": {},
   "outputs": [
    {
     "data": {
      "text/plain": [
       "Jet Airways                          3700\n",
       "IndiGo                               2043\n",
       "Air India                            1695\n",
       "Multiple carriers                    1196\n",
       "SpiceJet                              815\n",
       "Vistara                               478\n",
       "Air Asia                              319\n",
       "GoAir                                 194\n",
       "Multiple carriers Premium economy      13\n",
       "Jet Airways Business                    6\n",
       "Vistara Premium economy                 3\n",
       "Trujet                                  1\n",
       "Name: Airline, dtype: int64"
      ]
     },
     "execution_count": 133,
     "metadata": {},
     "output_type": "execute_result"
    }
   ],
   "source": [
    "df['Airline'].value_counts()"
   ]
  },
  {
   "cell_type": "code",
   "execution_count": 134,
   "id": "77aab183",
   "metadata": {},
   "outputs": [
    {
     "data": {
      "text/plain": [
       "<AxesSubplot:xlabel='count', ylabel='Airline'>"
      ]
     },
     "execution_count": 134,
     "metadata": {},
     "output_type": "execute_result"
    },
    {
     "data": {
      "image/png": "[encoded data removed]",
      "text/plain": [
       "<Figure size 432x288 with 1 Axes>"
      ]
     },
     "metadata": {
      "needs_background": "light"
     },
     "output_type": "display_data"
    }
   ],
   "source": [
    "sns.countplot(data=df,y= 'Airline')"
   ]
  },
  {
   "cell_type": "markdown",
   "id": "4190a834",
   "metadata": {},
   "source": [
    "2) Source"
   ]
  },
  {
   "cell_type": "code",
   "execution_count": 135,
   "id": "5c34f035",
   "metadata": {},
   "outputs": [
    {
     "data": {
      "text/plain": [
       "Delhi       4346\n",
       "Kolkata     2860\n",
       "Banglore    2179\n",
       "Mumbai       697\n",
       "Chennai      381\n",
       "Name: Source, dtype: int64"
      ]
     },
     "execution_count": 135,
     "metadata": {},
     "output_type": "execute_result"
    }
   ],
   "source": [
    "df['Source'].value_counts()"
   ]
  },
  {
   "cell_type": "code",
   "execution_count": 136,
   "id": "a4e0aaa6",
   "metadata": {},
   "outputs": [
    {
     "data": {
      "text/plain": [
       "<AxesSubplot:xlabel='Source', ylabel='count'>"
      ]
     },
     "execution_count": 136,
     "metadata": {},
     "output_type": "execute_result"
    },
    {
     "data": {
      "image/png": "[encoded data removed]",
      "text/plain": [
       "<Figure size 432x288 with 1 Axes>"
      ]
     },
     "metadata": {
      "needs_background": "light"
     },
     "output_type": "display_data"
    }
   ],
   "source": [
    "sns.countplot(data=df,x= 'Source')"
   ]
  },
  {
   "cell_type": "markdown",
   "id": "a0ef7bf7",
   "metadata": {},
   "source": [
    "3) Destination"
   ]
  },
  {
   "cell_type": "code",
   "execution_count": 137,
   "id": "f6a719ab",
   "metadata": {},
   "outputs": [
    {
     "data": {
      "text/plain": [
       "['New Delhi', 'Banglore', 'Cochin', 'Kolkata', 'Delhi', 'Hyderabad']"
      ]
     },
     "execution_count": 137,
     "metadata": {},
     "output_type": "execute_result"
    }
   ],
   "source": [
    "df['Destination'].unique().tolist()"
   ]
  },
  {
   "cell_type": "code",
   "execution_count": 138,
   "id": "6a5fe17e",
   "metadata": {},
   "outputs": [
    {
     "data": {
      "text/plain": [
       "<AxesSubplot:xlabel='Destination', ylabel='count'>"
      ]
     },
     "execution_count": 138,
     "metadata": {},
     "output_type": "execute_result"
    },
    {
     "data": {
      "image/png": "[encoded data removed]",
      "text/plain": [
       "<Figure size 432x288 with 1 Axes>"
      ]
     },
     "metadata": {
      "needs_background": "light"
     },
     "output_type": "display_data"
    }
   ],
   "source": [
    "sns.countplot(data=df,x= 'Destination')"
   ]
  },
  {
   "cell_type": "markdown",
   "id": "aad8c9a8",
   "metadata": {},
   "source": [
    "4) Route"
   ]
  },
  {
   "cell_type": "code",
   "execution_count": 139,
   "id": "c858ac0c",
   "metadata": {},
   "outputs": [
    {
     "data": {
      "text/plain": [
       "['BLR → DEL',\n",
       " 'CCU → IXR → BBI → BLR',\n",
       " 'DEL → LKO → BOM → COK',\n",
       " 'CCU → NAG → BLR',\n",
       " 'BLR → NAG → DEL',\n",
       " 'CCU → BLR',\n",
       " 'BLR → BOM → DEL',\n",
       " 'DEL → BOM → COK',\n",
       " 'DEL → BLR → COK',\n",
       " 'MAA → CCU',\n",
       " 'CCU → BOM → BLR',\n",
       " 'DEL → AMD → BOM → COK',\n",
       " 'DEL → PNQ → COK',\n",
       " 'DEL → CCU → BOM → COK',\n",
       " 'BLR → COK → DEL',\n",
       " 'DEL → IDR → BOM → COK',\n",
       " 'DEL → LKO → COK',\n",
       " 'CCU → GAU → DEL → BLR',\n",
       " 'DEL → NAG → BOM → COK',\n",
       " 'CCU → MAA → BLR',\n",
       " 'DEL → HYD → COK',\n",
       " 'CCU → HYD → BLR',\n",
       " 'DEL → COK',\n",
       " 'CCU → DEL → BLR',\n",
       " 'BLR → BOM → AMD → DEL',\n",
       " 'BOM → DEL → HYD',\n",
       " 'DEL → MAA → COK',\n",
       " 'BOM → HYD',\n",
       " 'DEL → BHO → BOM → COK',\n",
       " 'DEL → JAI → BOM → COK',\n",
       " 'DEL → ATQ → BOM → COK',\n",
       " 'DEL → JDH → BOM → COK',\n",
       " 'CCU → BBI → BOM → BLR',\n",
       " 'BLR → MAA → DEL',\n",
       " 'DEL → GOI → BOM → COK',\n",
       " 'DEL → BDQ → BOM → COK',\n",
       " 'CCU → JAI → BOM → BLR',\n",
       " 'CCU → BBI → BLR',\n",
       " 'BLR → HYD → DEL',\n",
       " 'DEL → TRV → COK',\n",
       " 'CCU → IXR → DEL → BLR',\n",
       " 'DEL → IXU → BOM → COK',\n",
       " 'CCU → IXB → BLR',\n",
       " 'BLR → BOM → JDH → DEL',\n",
       " 'DEL → UDR → BOM → COK',\n",
       " 'DEL → HYD → MAA → COK',\n",
       " 'CCU → BOM → COK → BLR',\n",
       " 'BLR → CCU → DEL',\n",
       " 'CCU → BOM → GOI → BLR',\n",
       " 'DEL → RPR → NAG → BOM → COK',\n",
       " 'DEL → HYD → BOM → COK',\n",
       " 'CCU → DEL → AMD → BLR',\n",
       " 'CCU → PNQ → BLR',\n",
       " 'BLR → CCU → GAU → DEL',\n",
       " 'CCU → DEL → COK → BLR',\n",
       " 'BLR → PNQ → DEL',\n",
       " 'BOM → JDH → DEL → HYD',\n",
       " 'BLR → BOM → BHO → DEL',\n",
       " 'DEL → AMD → COK',\n",
       " 'BLR → LKO → DEL',\n",
       " 'CCU → GAU → BLR',\n",
       " 'BOM → GOI → HYD',\n",
       " 'CCU → BOM → AMD → BLR',\n",
       " 'CCU → BBI → IXR → DEL → BLR',\n",
       " 'DEL → DED → BOM → COK',\n",
       " 'DEL → MAA → BOM → COK',\n",
       " 'BLR → AMD → DEL',\n",
       " 'BLR → VGA → DEL',\n",
       " 'CCU → JAI → DEL → BLR',\n",
       " 'CCU → AMD → BLR',\n",
       " 'CCU → VNS → DEL → BLR',\n",
       " 'BLR → BOM → IDR → DEL',\n",
       " 'BLR → BBI → DEL',\n",
       " 'BLR → GOI → DEL',\n",
       " 'BOM → AMD → ISK → HYD',\n",
       " 'BOM → DED → DEL → HYD',\n",
       " 'DEL → IXC → BOM → COK',\n",
       " 'CCU → PAT → BLR',\n",
       " 'BLR → CCU → BBI → DEL',\n",
       " 'CCU → BBI → HYD → BLR',\n",
       " 'BLR → BOM → NAG → DEL',\n",
       " 'BLR → CCU → BBI → HYD → DEL',\n",
       " 'BLR → GAU → DEL',\n",
       " 'BOM → BHO → DEL → HYD',\n",
       " 'BOM → JLR → HYD',\n",
       " 'BLR → HYD → VGA → DEL',\n",
       " 'CCU → KNU → BLR',\n",
       " 'CCU → BOM → PNQ → BLR',\n",
       " 'DEL → BBI → COK',\n",
       " 'BLR → VGA → HYD → DEL',\n",
       " 'BOM → JDH → JAI → DEL → HYD',\n",
       " 'DEL → GWL → IDR → BOM → COK',\n",
       " 'CCU → RPR → HYD → BLR',\n",
       " 'CCU → VTZ → BLR',\n",
       " 'CCU → DEL → VGA → BLR',\n",
       " 'BLR → BOM → IDR → GWL → DEL',\n",
       " 'CCU → DEL → COK → TRV → BLR',\n",
       " 'BOM → COK → MAA → HYD',\n",
       " 'BOM → NDC → HYD',\n",
       " 'BLR → BDQ → DEL',\n",
       " 'CCU → BOM → TRV → BLR',\n",
       " 'CCU → BOM → HBX → BLR',\n",
       " 'BOM → BDQ → DEL → HYD',\n",
       " 'BOM → CCU → HYD',\n",
       " 'BLR → TRV → COK → DEL',\n",
       " 'BLR → IDR → DEL',\n",
       " 'CCU → IXZ → MAA → BLR',\n",
       " 'CCU → GAU → IMF → DEL → BLR',\n",
       " 'BOM → GOI → PNQ → HYD',\n",
       " 'BOM → BLR → CCU → BBI → HYD',\n",
       " 'BOM → MAA → HYD',\n",
       " 'BLR → BOM → UDR → DEL',\n",
       " 'BOM → UDR → DEL → HYD',\n",
       " 'BLR → VGA → VTZ → DEL',\n",
       " 'BLR → HBX → BOM → BHO → DEL',\n",
       " 'CCU → IXA → BLR',\n",
       " 'BOM → RPR → VTZ → HYD',\n",
       " 'BLR → HBX → BOM → AMD → DEL',\n",
       " 'BOM → IDR → DEL → HYD',\n",
       " 'BOM → BLR → HYD',\n",
       " 'BLR → STV → DEL',\n",
       " 'CCU → IXB → DEL → BLR',\n",
       " 'BOM → JAI → DEL → HYD',\n",
       " 'BOM → VNS → DEL → HYD',\n",
       " 'BLR → HBX → BOM → NAG → DEL',\n",
       " nan,\n",
       " 'BLR → BOM → IXC → DEL',\n",
       " 'BLR → CCU → BBI → HYD → VGA → DEL',\n",
       " 'BOM → BBI → HYD']"
      ]
     },
     "execution_count": 139,
     "metadata": {},
     "output_type": "execute_result"
    }
   ],
   "source": [
    "df['Route'].unique().tolist()"
   ]
  },
  {
   "cell_type": "code",
   "execution_count": 140,
   "id": "b5862612",
   "metadata": {},
   "outputs": [
    {
     "data": {
      "text/html": [
       "<div>\n",
       "<style scoped>\n",
       "    .dataframe tbody tr th:only-of-type {\n",
       "        vertical-align: middle;\n",
       "    }\n",
       "\n",
       "    .dataframe tbody tr th {\n",
       "        vertical-align: top;\n",
       "    }\n",
       "\n",
       "    .dataframe thead th {\n",
       "        text-align: right;\n",
       "    }\n",
       "</style>\n",
       "<table border=\"1\" class=\"dataframe\">\n",
       "  <thead>\n",
       "    <tr style=\"text-align: right;\">\n",
       "      <th></th>\n",
       "      <th>Airline</th>\n",
       "      <th>Date_of_Journey</th>\n",
       "      <th>Source</th>\n",
       "      <th>Destination</th>\n",
       "      <th>Route</th>\n",
       "      <th>Dep_Time</th>\n",
       "      <th>Arrival_Time</th>\n",
       "      <th>Duration</th>\n",
       "      <th>Total_Stops</th>\n",
       "      <th>Additional_Info</th>\n",
       "      <th>Price</th>\n",
       "    </tr>\n",
       "  </thead>\n",
       "  <tbody>\n",
       "    <tr>\n",
       "      <th>9039</th>\n",
       "      <td>Air India</td>\n",
       "      <td>6/05/2019</td>\n",
       "      <td>Delhi</td>\n",
       "      <td>Cochin</td>\n",
       "      <td>NaN</td>\n",
       "      <td>09:45</td>\n",
       "      <td>09:25 07 May</td>\n",
       "      <td>23h 40m</td>\n",
       "      <td>NaN</td>\n",
       "      <td>No info</td>\n",
       "      <td>7480</td>\n",
       "    </tr>\n",
       "  </tbody>\n",
       "</table>\n",
       "</div>"
      ],
      "text/plain": [
       "        Airline Date_of_Journey Source Destination Route Dep_Time  \\\n",
       "9039  Air India       6/05/2019  Delhi      Cochin   NaN    09:45   \n",
       "\n",
       "      Arrival_Time Duration Total_Stops Additional_Info  Price  \n",
       "9039  09:25 07 May  23h 40m         NaN         No info   7480  "
      ]
     },
     "execution_count": 140,
     "metadata": {},
     "output_type": "execute_result"
    }
   ],
   "source": [
    "df[df['Route'].isnull()==True]"
   ]
  },
  {
   "cell_type": "code",
   "execution_count": 141,
   "id": "7824bc4f",
   "metadata": {},
   "outputs": [],
   "source": [
    "df.drop(9039 , axis=0 ,inplace=True)"
   ]
  },
  {
   "cell_type": "code",
   "execution_count": 142,
   "id": "57d5f3de",
   "metadata": {},
   "outputs": [
    {
     "data": {
      "text/html": [
       "<div>\n",
       "<style scoped>\n",
       "    .dataframe tbody tr th:only-of-type {\n",
       "        vertical-align: middle;\n",
       "    }\n",
       "\n",
       "    .dataframe tbody tr th {\n",
       "        vertical-align: top;\n",
       "    }\n",
       "\n",
       "    .dataframe thead th {\n",
       "        text-align: right;\n",
       "    }\n",
       "</style>\n",
       "<table border=\"1\" class=\"dataframe\">\n",
       "  <thead>\n",
       "    <tr style=\"text-align: right;\">\n",
       "      <th></th>\n",
       "      <th>Airline</th>\n",
       "      <th>Date_of_Journey</th>\n",
       "      <th>Source</th>\n",
       "      <th>Destination</th>\n",
       "      <th>Route</th>\n",
       "      <th>Dep_Time</th>\n",
       "      <th>Arrival_Time</th>\n",
       "      <th>Duration</th>\n",
       "      <th>Total_Stops</th>\n",
       "      <th>Additional_Info</th>\n",
       "      <th>Price</th>\n",
       "    </tr>\n",
       "  </thead>\n",
       "  <tbody>\n",
       "  </tbody>\n",
       "</table>\n",
       "</div>"
      ],
      "text/plain": [
       "Empty DataFrame\n",
       "Columns: [Airline, Date_of_Journey, Source, Destination, Route, Dep_Time, Arrival_Time, Duration, Total_Stops, Additional_Info, Price]\n",
       "Index: []"
      ]
     },
     "execution_count": 142,
     "metadata": {},
     "output_type": "execute_result"
    }
   ],
   "source": [
    "df[df['Route'].isnull()==True]"
   ]
  },
  {
   "cell_type": "code",
   "execution_count": 143,
   "id": "d54a2cae",
   "metadata": {},
   "outputs": [],
   "source": [
    "df.reset_index(inplace = True , drop = True)"
   ]
  },
  {
   "cell_type": "markdown",
   "id": "97d74071",
   "metadata": {},
   "source": [
    "5) Price"
   ]
  },
  {
   "cell_type": "code",
   "execution_count": 144,
   "id": "6e138450",
   "metadata": {},
   "outputs": [
    {
     "data": {
      "text/plain": [
       "count    10462.000000\n",
       "mean      9026.790289\n",
       "std       4624.849541\n",
       "min       1759.000000\n",
       "25%       5224.000000\n",
       "50%       8266.000000\n",
       "75%      12344.750000\n",
       "max      79512.000000\n",
       "Name: Price, dtype: float64"
      ]
     },
     "execution_count": 144,
     "metadata": {},
     "output_type": "execute_result"
    }
   ],
   "source": [
    "df['Price'].describe()"
   ]
  },
  {
   "cell_type": "code",
   "execution_count": 145,
   "id": "0d3170cd",
   "metadata": {},
   "outputs": [
    {
     "data": {
      "text/plain": [
       "<AxesSubplot:xlabel='Price', ylabel='Density'>"
      ]
     },
     "execution_count": 145,
     "metadata": {},
     "output_type": "execute_result"
    },
    {
     "data": {
      "image/png": "[encoded data removed]",
      "text/plain": [
       "<Figure size 432x288 with 1 Axes>"
      ]
     },
     "metadata": {
      "needs_background": "light"
     },
     "output_type": "display_data"
    }
   ],
   "source": [
    "sns.kdeplot(data = df, x = 'Price' , shade = True)"
   ]
  },
  {
   "cell_type": "raw",
   "id": "99067c12",
   "metadata": {},
   "source": [
    "mean is not equal median so we have outliers "
   ]
  },
  {
   "cell_type": "code",
   "execution_count": 146,
   "id": "66c95bc2",
   "metadata": {},
   "outputs": [
    {
     "data": {
      "text/plain": [
       "<AxesSubplot:xlabel='Price'>"
      ]
     },
     "execution_count": 146,
     "metadata": {},
     "output_type": "execute_result"
    },
    {
     "data": {
      "image/png": "[encoded data removed]",
      "text/plain": [
       "<Figure size 432x288 with 1 Axes>"
      ]
     },
     "metadata": {
      "needs_background": "light"
     },
     "output_type": "display_data"
    }
   ],
   "source": [
    "sns.boxplot(data = df ,x ='Price')"
   ]
  },
  {
   "cell_type": "code",
   "execution_count": 147,
   "id": "a5c6406d",
   "metadata": {},
   "outputs": [],
   "source": [
    "price_outliers_indies= detect_outliers(df , 0 , ['Price'])"
   ]
  },
  {
   "cell_type": "code",
   "execution_count": 148,
   "id": "2563956b",
   "metadata": {},
   "outputs": [
    {
     "data": {
      "text/plain": [
       "94"
      ]
     },
     "execution_count": 148,
     "metadata": {},
     "output_type": "execute_result"
    }
   ],
   "source": [
    "len(price_outliers_indies)"
   ]
  },
  {
   "cell_type": "code",
   "execution_count": 149,
   "id": "7a30ee94",
   "metadata": {},
   "outputs": [
    {
     "data": {
      "text/html": [
       "<div>\n",
       "<style scoped>\n",
       "    .dataframe tbody tr th:only-of-type {\n",
       "        vertical-align: middle;\n",
       "    }\n",
       "\n",
       "    .dataframe tbody tr th {\n",
       "        vertical-align: top;\n",
       "    }\n",
       "\n",
       "    .dataframe thead th {\n",
       "        text-align: right;\n",
       "    }\n",
       "</style>\n",
       "<table border=\"1\" class=\"dataframe\">\n",
       "  <thead>\n",
       "    <tr style=\"text-align: right;\">\n",
       "      <th></th>\n",
       "      <th>Airline</th>\n",
       "      <th>Date_of_Journey</th>\n",
       "      <th>Source</th>\n",
       "      <th>Destination</th>\n",
       "      <th>Route</th>\n",
       "      <th>Dep_Time</th>\n",
       "      <th>Arrival_Time</th>\n",
       "      <th>Duration</th>\n",
       "      <th>Total_Stops</th>\n",
       "      <th>Additional_Info</th>\n",
       "      <th>Price</th>\n",
       "    </tr>\n",
       "  </thead>\n",
       "  <tbody>\n",
       "    <tr>\n",
       "      <th>123</th>\n",
       "      <td>Air India</td>\n",
       "      <td>1/03/2019</td>\n",
       "      <td>Delhi</td>\n",
       "      <td>Cochin</td>\n",
       "      <td>DEL → BOM → COK</td>\n",
       "      <td>23:00</td>\n",
       "      <td>19:15 02 Mar</td>\n",
       "      <td>20h 15m</td>\n",
       "      <td>1 stop</td>\n",
       "      <td>No info</td>\n",
       "      <td>27430</td>\n",
       "    </tr>\n",
       "    <tr>\n",
       "      <th>396</th>\n",
       "      <td>Multiple carriers</td>\n",
       "      <td>1/03/2019</td>\n",
       "      <td>Delhi</td>\n",
       "      <td>Cochin</td>\n",
       "      <td>DEL → BOM → COK</td>\n",
       "      <td>12:50</td>\n",
       "      <td>19:15</td>\n",
       "      <td>6h 25m</td>\n",
       "      <td>1 stop</td>\n",
       "      <td>No info</td>\n",
       "      <td>36983</td>\n",
       "    </tr>\n",
       "    <tr>\n",
       "      <th>486</th>\n",
       "      <td>Jet Airways</td>\n",
       "      <td>01/03/2019</td>\n",
       "      <td>Banglore</td>\n",
       "      <td>New Delhi</td>\n",
       "      <td>BLR → BOM → DEL</td>\n",
       "      <td>08:55</td>\n",
       "      <td>15:15</td>\n",
       "      <td>6h 20m</td>\n",
       "      <td>1 stop</td>\n",
       "      <td>No info</td>\n",
       "      <td>26890</td>\n",
       "    </tr>\n",
       "    <tr>\n",
       "      <th>510</th>\n",
       "      <td>Jet Airways</td>\n",
       "      <td>01/03/2019</td>\n",
       "      <td>Banglore</td>\n",
       "      <td>New Delhi</td>\n",
       "      <td>BLR → BOM → DEL</td>\n",
       "      <td>07:00</td>\n",
       "      <td>12:25</td>\n",
       "      <td>5h 25m</td>\n",
       "      <td>1 stop</td>\n",
       "      <td>No info</td>\n",
       "      <td>26890</td>\n",
       "    </tr>\n",
       "    <tr>\n",
       "      <th>597</th>\n",
       "      <td>Air India</td>\n",
       "      <td>6/03/2019</td>\n",
       "      <td>Mumbai</td>\n",
       "      <td>Hyderabad</td>\n",
       "      <td>BOM → JDH → DEL → HYD</td>\n",
       "      <td>09:40</td>\n",
       "      <td>15:15 07 Mar</td>\n",
       "      <td>29h 35m</td>\n",
       "      <td>2 stops</td>\n",
       "      <td>No info</td>\n",
       "      <td>25139</td>\n",
       "    </tr>\n",
       "    <tr>\n",
       "      <th>...</th>\n",
       "      <td>...</td>\n",
       "      <td>...</td>\n",
       "      <td>...</td>\n",
       "      <td>...</td>\n",
       "      <td>...</td>\n",
       "      <td>...</td>\n",
       "      <td>...</td>\n",
       "      <td>...</td>\n",
       "      <td>...</td>\n",
       "      <td>...</td>\n",
       "      <td>...</td>\n",
       "    </tr>\n",
       "    <tr>\n",
       "      <th>10148</th>\n",
       "      <td>Jet Airways</td>\n",
       "      <td>6/03/2019</td>\n",
       "      <td>Mumbai</td>\n",
       "      <td>Hyderabad</td>\n",
       "      <td>BOM → BDQ → DEL → HYD</td>\n",
       "      <td>19:50</td>\n",
       "      <td>16:50 07 Mar</td>\n",
       "      <td>21h</td>\n",
       "      <td>2 stops</td>\n",
       "      <td>No info</td>\n",
       "      <td>24210</td>\n",
       "    </tr>\n",
       "    <tr>\n",
       "      <th>10159</th>\n",
       "      <td>Jet Airways Business</td>\n",
       "      <td>01/03/2019</td>\n",
       "      <td>Banglore</td>\n",
       "      <td>New Delhi</td>\n",
       "      <td>BLR → MAA → DEL</td>\n",
       "      <td>09:45</td>\n",
       "      <td>14:25</td>\n",
       "      <td>4h 40m</td>\n",
       "      <td>1 stop</td>\n",
       "      <td>Business class</td>\n",
       "      <td>57209</td>\n",
       "    </tr>\n",
       "    <tr>\n",
       "      <th>10178</th>\n",
       "      <td>Jet Airways</td>\n",
       "      <td>01/03/2019</td>\n",
       "      <td>Banglore</td>\n",
       "      <td>New Delhi</td>\n",
       "      <td>BLR → BOM → DEL</td>\n",
       "      <td>07:00</td>\n",
       "      <td>05:05 02 Mar</td>\n",
       "      <td>22h 5m</td>\n",
       "      <td>1 stop</td>\n",
       "      <td>No info</td>\n",
       "      <td>26890</td>\n",
       "    </tr>\n",
       "    <tr>\n",
       "      <th>10231</th>\n",
       "      <td>Jet Airways</td>\n",
       "      <td>01/03/2019</td>\n",
       "      <td>Banglore</td>\n",
       "      <td>New Delhi</td>\n",
       "      <td>BLR → BOM → DEL</td>\n",
       "      <td>18:40</td>\n",
       "      <td>09:00 02 Mar</td>\n",
       "      <td>14h 20m</td>\n",
       "      <td>1 stop</td>\n",
       "      <td>No info</td>\n",
       "      <td>31825</td>\n",
       "    </tr>\n",
       "    <tr>\n",
       "      <th>10301</th>\n",
       "      <td>Air India</td>\n",
       "      <td>01/03/2019</td>\n",
       "      <td>Banglore</td>\n",
       "      <td>New Delhi</td>\n",
       "      <td>BLR → BOM → BHO → DEL</td>\n",
       "      <td>06:45</td>\n",
       "      <td>09:25 02 Mar</td>\n",
       "      <td>26h 40m</td>\n",
       "      <td>2 stops</td>\n",
       "      <td>2 Long layover</td>\n",
       "      <td>26480</td>\n",
       "    </tr>\n",
       "  </tbody>\n",
       "</table>\n",
       "<p>94 rows × 11 columns</p>\n",
       "</div>"
      ],
      "text/plain": [
       "                    Airline Date_of_Journey    Source Destination  \\\n",
       "123               Air India       1/03/2019     Delhi      Cochin   \n",
       "396       Multiple carriers       1/03/2019     Delhi      Cochin   \n",
       "486             Jet Airways      01/03/2019  Banglore   New Delhi   \n",
       "510             Jet Airways      01/03/2019  Banglore   New Delhi   \n",
       "597               Air India       6/03/2019    Mumbai   Hyderabad   \n",
       "...                     ...             ...       ...         ...   \n",
       "10148           Jet Airways       6/03/2019    Mumbai   Hyderabad   \n",
       "10159  Jet Airways Business      01/03/2019  Banglore   New Delhi   \n",
       "10178           Jet Airways      01/03/2019  Banglore   New Delhi   \n",
       "10231           Jet Airways      01/03/2019  Banglore   New Delhi   \n",
       "10301             Air India      01/03/2019  Banglore   New Delhi   \n",
       "\n",
       "                       Route Dep_Time  Arrival_Time Duration Total_Stops  \\\n",
       "123          DEL → BOM → COK    23:00  19:15 02 Mar  20h 15m      1 stop   \n",
       "396          DEL → BOM → COK    12:50         19:15   6h 25m      1 stop   \n",
       "486          BLR → BOM → DEL    08:55         15:15   6h 20m      1 stop   \n",
       "510          BLR → BOM → DEL    07:00         12:25   5h 25m      1 stop   \n",
       "597    BOM → JDH → DEL → HYD    09:40  15:15 07 Mar  29h 35m     2 stops   \n",
       "...                      ...      ...           ...      ...         ...   \n",
       "10148  BOM → BDQ → DEL → HYD    19:50  16:50 07 Mar      21h     2 stops   \n",
       "10159        BLR → MAA → DEL    09:45         14:25   4h 40m      1 stop   \n",
       "10178        BLR → BOM → DEL    07:00  05:05 02 Mar   22h 5m      1 stop   \n",
       "10231        BLR → BOM → DEL    18:40  09:00 02 Mar  14h 20m      1 stop   \n",
       "10301  BLR → BOM → BHO → DEL    06:45  09:25 02 Mar  26h 40m     2 stops   \n",
       "\n",
       "      Additional_Info  Price  \n",
       "123           No info  27430  \n",
       "396           No info  36983  \n",
       "486           No info  26890  \n",
       "510           No info  26890  \n",
       "597           No info  25139  \n",
       "...               ...    ...  \n",
       "10148         No info  24210  \n",
       "10159  Business class  57209  \n",
       "10178         No info  26890  \n",
       "10231         No info  31825  \n",
       "10301  2 Long layover  26480  \n",
       "\n",
       "[94 rows x 11 columns]"
      ]
     },
     "execution_count": 149,
     "metadata": {},
     "output_type": "execute_result"
    }
   ],
   "source": [
    "df.iloc[ price_outliers_indies ]"
   ]
  },
  {
   "cell_type": "raw",
   "id": "4a96942a",
   "metadata": {},
   "source": [
    "The outliers here have a business value so we can't remove them"
   ]
  },
  {
   "cell_type": "markdown",
   "id": "8cf26f94",
   "metadata": {},
   "source": [
    "5) Total_Stops"
   ]
  },
  {
   "cell_type": "code",
   "execution_count": 150,
   "id": "30462451",
   "metadata": {},
   "outputs": [
    {
     "data": {
      "text/plain": [
       "1 stop      5625\n",
       "non-stop    3475\n",
       "2 stops     1318\n",
       "3 stops       43\n",
       "4 stops        1\n",
       "Name: Total_Stops, dtype: int64"
      ]
     },
     "execution_count": 150,
     "metadata": {},
     "output_type": "execute_result"
    }
   ],
   "source": [
    "df['Total_Stops'].value_counts()"
   ]
  },
  {
   "cell_type": "code",
   "execution_count": 151,
   "id": "722c8e1c",
   "metadata": {},
   "outputs": [],
   "source": [
    "def number_stops(r):\n",
    "    if r[0]=='n':\n",
    "        return 0\n",
    "    else :\n",
    "        return r[0]"
   ]
  },
  {
   "cell_type": "code",
   "execution_count": 152,
   "id": "4437a000",
   "metadata": {},
   "outputs": [],
   "source": [
    "df['No_stops']= df['Total_Stops'].apply(number_stops)"
   ]
  },
  {
   "cell_type": "code",
   "execution_count": 153,
   "id": "1f0598b0",
   "metadata": {},
   "outputs": [],
   "source": [
    "df['No_stops']=pd.to_numeric(df['No_stops'])"
   ]
  },
  {
   "cell_type": "code",
   "execution_count": 154,
   "id": "02b116c2",
   "metadata": {},
   "outputs": [
    {
     "data": {
      "text/plain": [
       "0        0\n",
       "1        2\n",
       "2        2\n",
       "3        1\n",
       "4        1\n",
       "        ..\n",
       "10457    0\n",
       "10458    0\n",
       "10459    0\n",
       "10460    0\n",
       "10461    2\n",
       "Name: No_stops, Length: 10462, dtype: int64"
      ]
     },
     "execution_count": 154,
     "metadata": {},
     "output_type": "execute_result"
    }
   ],
   "source": [
    "df['No_stops']"
   ]
  },
  {
   "cell_type": "code",
   "execution_count": 155,
   "id": "4d8fc98f",
   "metadata": {},
   "outputs": [],
   "source": [
    "df.drop(['Total_Stops'] , axis =1 , inplace= True)"
   ]
  },
  {
   "cell_type": "code",
   "execution_count": 156,
   "id": "588f2109",
   "metadata": {},
   "outputs": [],
   "source": [
    "df.drop(['Route'] , axis =1 , inplace= True)"
   ]
  },
  {
   "cell_type": "markdown",
   "id": "741f4de0",
   "metadata": {},
   "source": [
    " after data understanding an analysis we discover that the column of  no_stops correspond to column route so we drop route"
   ]
  },
  {
   "cell_type": "code",
   "execution_count": null,
   "id": "1c3160f9",
   "metadata": {},
   "outputs": [],
   "source": []
  },
  {
   "cell_type": "markdown",
   "id": "b0e30fa0",
   "metadata": {},
   "source": [
    "6) Additional_Info"
   ]
  },
  {
   "cell_type": "code",
   "execution_count": 157,
   "id": "2a6ec1db",
   "metadata": {},
   "outputs": [
    {
     "data": {
      "text/plain": [
       "No info                         8182\n",
       "In-flight meal not included     1926\n",
       "No check-in baggage included     318\n",
       "1 Long layover                    19\n",
       "Change airports                    7\n",
       "Business class                     4\n",
       "No Info                            3\n",
       "1 Short layover                    1\n",
       "Red-eye flight                     1\n",
       "2 Long layover                     1\n",
       "Name: Additional_Info, dtype: int64"
      ]
     },
     "execution_count": 157,
     "metadata": {},
     "output_type": "execute_result"
    }
   ],
   "source": [
    "df['Additional_Info'].value_counts()"
   ]
  },
  {
   "cell_type": "code",
   "execution_count": 158,
   "id": "25253806",
   "metadata": {},
   "outputs": [
    {
     "data": {
      "text/plain": [
       "<AxesSubplot:xlabel='count', ylabel='Additional_Info'>"
      ]
     },
     "execution_count": 158,
     "metadata": {},
     "output_type": "execute_result"
    },
    {
     "data": {
      "image/png": "[encoded data removed]",
      "text/plain": [
       "<Figure size 432x288 with 1 Axes>"
      ]
     },
     "metadata": {
      "needs_background": "light"
     },
     "output_type": "display_data"
    }
   ],
   "source": [
    "sns.countplot(data=df,y= 'Additional_Info')"
   ]
  },
  {
   "cell_type": "code",
   "execution_count": 159,
   "id": "e2bc8720",
   "metadata": {},
   "outputs": [
    {
     "data": {
      "text/html": [
       "<div>\n",
       "<style scoped>\n",
       "    .dataframe tbody tr th:only-of-type {\n",
       "        vertical-align: middle;\n",
       "    }\n",
       "\n",
       "    .dataframe tbody tr th {\n",
       "        vertical-align: top;\n",
       "    }\n",
       "\n",
       "    .dataframe thead th {\n",
       "        text-align: right;\n",
       "    }\n",
       "</style>\n",
       "<table border=\"1\" class=\"dataframe\">\n",
       "  <thead>\n",
       "    <tr style=\"text-align: right;\">\n",
       "      <th></th>\n",
       "      <th>Airline</th>\n",
       "      <th>Date_of_Journey</th>\n",
       "      <th>Source</th>\n",
       "      <th>Destination</th>\n",
       "      <th>Dep_Time</th>\n",
       "      <th>Arrival_Time</th>\n",
       "      <th>Duration</th>\n",
       "      <th>Additional_Info</th>\n",
       "      <th>Price</th>\n",
       "      <th>No_stops</th>\n",
       "    </tr>\n",
       "  </thead>\n",
       "  <tbody>\n",
       "    <tr>\n",
       "      <th>45</th>\n",
       "      <td>SpiceJet</td>\n",
       "      <td>24/03/2019</td>\n",
       "      <td>Banglore</td>\n",
       "      <td>New Delhi</td>\n",
       "      <td>05:45</td>\n",
       "      <td>08:35</td>\n",
       "      <td>2h 50m</td>\n",
       "      <td>No check-in baggage included</td>\n",
       "      <td>3527</td>\n",
       "      <td>0</td>\n",
       "    </tr>\n",
       "    <tr>\n",
       "      <th>79</th>\n",
       "      <td>SpiceJet</td>\n",
       "      <td>21/03/2019</td>\n",
       "      <td>Chennai</td>\n",
       "      <td>Kolkata</td>\n",
       "      <td>08:20</td>\n",
       "      <td>10:35</td>\n",
       "      <td>2h 15m</td>\n",
       "      <td>No check-in baggage included</td>\n",
       "      <td>3332</td>\n",
       "      <td>0</td>\n",
       "    </tr>\n",
       "    <tr>\n",
       "      <th>96</th>\n",
       "      <td>SpiceJet</td>\n",
       "      <td>15/05/2019</td>\n",
       "      <td>Banglore</td>\n",
       "      <td>Delhi</td>\n",
       "      <td>05:55</td>\n",
       "      <td>08:35</td>\n",
       "      <td>2h 40m</td>\n",
       "      <td>No check-in baggage included</td>\n",
       "      <td>3257</td>\n",
       "      <td>0</td>\n",
       "    </tr>\n",
       "    <tr>\n",
       "      <th>195</th>\n",
       "      <td>SpiceJet</td>\n",
       "      <td>27/06/2019</td>\n",
       "      <td>Chennai</td>\n",
       "      <td>Kolkata</td>\n",
       "      <td>09:45</td>\n",
       "      <td>12:00</td>\n",
       "      <td>2h 15m</td>\n",
       "      <td>No check-in baggage included</td>\n",
       "      <td>3543</td>\n",
       "      <td>0</td>\n",
       "    </tr>\n",
       "    <tr>\n",
       "      <th>228</th>\n",
       "      <td>SpiceJet</td>\n",
       "      <td>21/05/2019</td>\n",
       "      <td>Mumbai</td>\n",
       "      <td>Hyderabad</td>\n",
       "      <td>05:45</td>\n",
       "      <td>07:15</td>\n",
       "      <td>1h 30m</td>\n",
       "      <td>No check-in baggage included</td>\n",
       "      <td>1965</td>\n",
       "      <td>0</td>\n",
       "    </tr>\n",
       "    <tr>\n",
       "      <th>...</th>\n",
       "      <td>...</td>\n",
       "      <td>...</td>\n",
       "      <td>...</td>\n",
       "      <td>...</td>\n",
       "      <td>...</td>\n",
       "      <td>...</td>\n",
       "      <td>...</td>\n",
       "      <td>...</td>\n",
       "      <td>...</td>\n",
       "      <td>...</td>\n",
       "    </tr>\n",
       "    <tr>\n",
       "      <th>10354</th>\n",
       "      <td>SpiceJet</td>\n",
       "      <td>27/04/2019</td>\n",
       "      <td>Kolkata</td>\n",
       "      <td>Banglore</td>\n",
       "      <td>22:20</td>\n",
       "      <td>00:40 28 Apr</td>\n",
       "      <td>2h 20m</td>\n",
       "      <td>No check-in baggage included</td>\n",
       "      <td>3841</td>\n",
       "      <td>0</td>\n",
       "    </tr>\n",
       "    <tr>\n",
       "      <th>10377</th>\n",
       "      <td>SpiceJet</td>\n",
       "      <td>12/06/2019</td>\n",
       "      <td>Delhi</td>\n",
       "      <td>Cochin</td>\n",
       "      <td>08:45</td>\n",
       "      <td>13:15</td>\n",
       "      <td>4h 30m</td>\n",
       "      <td>No check-in baggage included</td>\n",
       "      <td>5158</td>\n",
       "      <td>1</td>\n",
       "    </tr>\n",
       "    <tr>\n",
       "      <th>10387</th>\n",
       "      <td>SpiceJet</td>\n",
       "      <td>12/05/2019</td>\n",
       "      <td>Banglore</td>\n",
       "      <td>Delhi</td>\n",
       "      <td>09:30</td>\n",
       "      <td>12:20</td>\n",
       "      <td>2h 50m</td>\n",
       "      <td>No check-in baggage included</td>\n",
       "      <td>4319</td>\n",
       "      <td>0</td>\n",
       "    </tr>\n",
       "    <tr>\n",
       "      <th>10435</th>\n",
       "      <td>SpiceJet</td>\n",
       "      <td>12/06/2019</td>\n",
       "      <td>Banglore</td>\n",
       "      <td>Delhi</td>\n",
       "      <td>05:55</td>\n",
       "      <td>08:35</td>\n",
       "      <td>2h 40m</td>\n",
       "      <td>No check-in baggage included</td>\n",
       "      <td>4319</td>\n",
       "      <td>0</td>\n",
       "    </tr>\n",
       "    <tr>\n",
       "      <th>10456</th>\n",
       "      <td>SpiceJet</td>\n",
       "      <td>21/05/2019</td>\n",
       "      <td>Banglore</td>\n",
       "      <td>Delhi</td>\n",
       "      <td>05:55</td>\n",
       "      <td>08:35</td>\n",
       "      <td>2h 40m</td>\n",
       "      <td>No check-in baggage included</td>\n",
       "      <td>3257</td>\n",
       "      <td>0</td>\n",
       "    </tr>\n",
       "  </tbody>\n",
       "</table>\n",
       "<p>318 rows × 10 columns</p>\n",
       "</div>"
      ],
      "text/plain": [
       "        Airline Date_of_Journey    Source Destination Dep_Time  Arrival_Time  \\\n",
       "45     SpiceJet      24/03/2019  Banglore   New Delhi    05:45         08:35   \n",
       "79     SpiceJet      21/03/2019   Chennai     Kolkata    08:20         10:35   \n",
       "96     SpiceJet      15/05/2019  Banglore       Delhi    05:55         08:35   \n",
       "195    SpiceJet      27/06/2019   Chennai     Kolkata    09:45         12:00   \n",
       "228    SpiceJet      21/05/2019    Mumbai   Hyderabad    05:45         07:15   \n",
       "...         ...             ...       ...         ...      ...           ...   \n",
       "10354  SpiceJet      27/04/2019   Kolkata    Banglore    22:20  00:40 28 Apr   \n",
       "10377  SpiceJet      12/06/2019     Delhi      Cochin    08:45         13:15   \n",
       "10387  SpiceJet      12/05/2019  Banglore       Delhi    09:30         12:20   \n",
       "10435  SpiceJet      12/06/2019  Banglore       Delhi    05:55         08:35   \n",
       "10456  SpiceJet      21/05/2019  Banglore       Delhi    05:55         08:35   \n",
       "\n",
       "      Duration               Additional_Info  Price  No_stops  \n",
       "45      2h 50m  No check-in baggage included   3527         0  \n",
       "79      2h 15m  No check-in baggage included   3332         0  \n",
       "96      2h 40m  No check-in baggage included   3257         0  \n",
       "195     2h 15m  No check-in baggage included   3543         0  \n",
       "228     1h 30m  No check-in baggage included   1965         0  \n",
       "...        ...                           ...    ...       ...  \n",
       "10354   2h 20m  No check-in baggage included   3841         0  \n",
       "10377   4h 30m  No check-in baggage included   5158         1  \n",
       "10387   2h 50m  No check-in baggage included   4319         0  \n",
       "10435   2h 40m  No check-in baggage included   4319         0  \n",
       "10456   2h 40m  No check-in baggage included   3257         0  \n",
       "\n",
       "[318 rows x 10 columns]"
      ]
     },
     "execution_count": 159,
     "metadata": {},
     "output_type": "execute_result"
    }
   ],
   "source": [
    "df[(df['Additional_Info']=='No check-in baggage included') & (df['Price']< 6400)]"
   ]
  },
  {
   "cell_type": "markdown",
   "id": "9ae063ce",
   "metadata": {},
   "source": [
    "7) Duration"
   ]
  },
  {
   "cell_type": "code",
   "execution_count": 160,
   "id": "aa03874f",
   "metadata": {},
   "outputs": [],
   "source": [
    "def dur_per_hour(r):\n",
    "    try :\n",
    "        total= (float(r[-3:-1])/60)+ float(r[:2])\n",
    "        return total\n",
    "    except :\n",
    "        total= (float(r[-3:-1])/60)+ float(r[:1])\n",
    "        return total\n",
    "           \n",
    "        "
   ]
  },
  {
   "cell_type": "code",
   "execution_count": 161,
   "id": "a8b2212f",
   "metadata": {},
   "outputs": [],
   "source": [
    "df['duration_modif'] = df['Duration'].apply(dur_per_hour)"
   ]
  },
  {
   "cell_type": "code",
   "execution_count": 162,
   "id": "379ae125",
   "metadata": {},
   "outputs": [
    {
     "data": {
      "text/plain": [
       "0         2.833333\n",
       "1         7.416667\n",
       "2        19.316667\n",
       "3         5.416667\n",
       "4         4.750000\n",
       "           ...    \n",
       "10457     2.500000\n",
       "10458     2.583333\n",
       "10459     3.050000\n",
       "10460     2.666667\n",
       "10461     8.333333\n",
       "Name: duration_modif, Length: 10462, dtype: float64"
      ]
     },
     "execution_count": 162,
     "metadata": {},
     "output_type": "execute_result"
    }
   ],
   "source": [
    "df['duration_modif']"
   ]
  },
  {
   "cell_type": "code",
   "execution_count": 163,
   "id": "aae1b1f9",
   "metadata": {},
   "outputs": [],
   "source": [
    "df.drop(['Duration'] , axis =1 , inplace= True)"
   ]
  },
  {
   "cell_type": "code",
   "execution_count": 164,
   "id": "618ab489",
   "metadata": {},
   "outputs": [
    {
     "data": {
      "text/plain": [
       "<AxesSubplot:xlabel='duration_modif', ylabel='Density'>"
      ]
     },
     "execution_count": 164,
     "metadata": {},
     "output_type": "execute_result"
    },
    {
     "data": {
      "image/png": "[encoded data removed]",
      "text/plain": [
       "<Figure size 432x288 with 1 Axes>"
      ]
     },
     "metadata": {
      "needs_background": "light"
     },
     "output_type": "display_data"
    }
   ],
   "source": [
    "sns.kdeplot(data = df , x = 'duration_modif' , shade = True)"
   ]
  },
  {
   "cell_type": "code",
   "execution_count": 165,
   "id": "4359fb71",
   "metadata": {},
   "outputs": [
    {
     "data": {
      "text/plain": [
       "count    10462.000000\n",
       "mean        10.514604\n",
       "std          8.358507\n",
       "min          1.250000\n",
       "25%          2.833333\n",
       "50%          8.416667\n",
       "75%         15.250000\n",
       "max         47.783333\n",
       "Name: duration_modif, dtype: float64"
      ]
     },
     "execution_count": 165,
     "metadata": {},
     "output_type": "execute_result"
    }
   ],
   "source": [
    "df['duration_modif'].describe()"
   ]
  },
  {
   "cell_type": "code",
   "execution_count": 166,
   "id": "9a5740d7",
   "metadata": {},
   "outputs": [],
   "source": [
    "duration_outliers_indies= detect_outliers(df , 0 , ['duration_modif'])"
   ]
  },
  {
   "cell_type": "code",
   "execution_count": 167,
   "id": "19235972",
   "metadata": {},
   "outputs": [
    {
     "data": {
      "text/plain": [
       "74"
      ]
     },
     "execution_count": 167,
     "metadata": {},
     "output_type": "execute_result"
    }
   ],
   "source": [
    "len(duration_outliers_indies)"
   ]
  },
  {
   "cell_type": "code",
   "execution_count": 168,
   "id": "8ee488bd",
   "metadata": {},
   "outputs": [
    {
     "data": {
      "text/html": [
       "<div>\n",
       "<style scoped>\n",
       "    .dataframe tbody tr th:only-of-type {\n",
       "        vertical-align: middle;\n",
       "    }\n",
       "\n",
       "    .dataframe tbody tr th {\n",
       "        vertical-align: top;\n",
       "    }\n",
       "\n",
       "    .dataframe thead th {\n",
       "        text-align: right;\n",
       "    }\n",
       "</style>\n",
       "<table border=\"1\" class=\"dataframe\">\n",
       "  <thead>\n",
       "    <tr style=\"text-align: right;\">\n",
       "      <th></th>\n",
       "      <th>Airline</th>\n",
       "      <th>Date_of_Journey</th>\n",
       "      <th>Source</th>\n",
       "      <th>Destination</th>\n",
       "      <th>Dep_Time</th>\n",
       "      <th>Arrival_Time</th>\n",
       "      <th>Additional_Info</th>\n",
       "      <th>Price</th>\n",
       "      <th>No_stops</th>\n",
       "      <th>duration_modif</th>\n",
       "    </tr>\n",
       "  </thead>\n",
       "  <tbody>\n",
       "    <tr>\n",
       "      <th>226</th>\n",
       "      <td>Jet Airways</td>\n",
       "      <td>3/03/2019</td>\n",
       "      <td>Delhi</td>\n",
       "      <td>Cochin</td>\n",
       "      <td>05:25</td>\n",
       "      <td>18:50 04 Mar</td>\n",
       "      <td>No info</td>\n",
       "      <td>18799</td>\n",
       "      <td>2</td>\n",
       "      <td>37.416667</td>\n",
       "    </tr>\n",
       "    <tr>\n",
       "      <th>470</th>\n",
       "      <td>Jet Airways</td>\n",
       "      <td>21/03/2019</td>\n",
       "      <td>Delhi</td>\n",
       "      <td>Cochin</td>\n",
       "      <td>18:20</td>\n",
       "      <td>04:25 23 Mar</td>\n",
       "      <td>No info</td>\n",
       "      <td>13082</td>\n",
       "      <td>2</td>\n",
       "      <td>34.083333</td>\n",
       "    </tr>\n",
       "    <tr>\n",
       "      <th>553</th>\n",
       "      <td>Air India</td>\n",
       "      <td>9/03/2019</td>\n",
       "      <td>Delhi</td>\n",
       "      <td>Cochin</td>\n",
       "      <td>05:00</td>\n",
       "      <td>19:15 10 Mar</td>\n",
       "      <td>No info</td>\n",
       "      <td>10598</td>\n",
       "      <td>2</td>\n",
       "      <td>38.250000</td>\n",
       "    </tr>\n",
       "    <tr>\n",
       "      <th>918</th>\n",
       "      <td>Air India</td>\n",
       "      <td>12/05/2019</td>\n",
       "      <td>Kolkata</td>\n",
       "      <td>Banglore</td>\n",
       "      <td>12:00</td>\n",
       "      <td>23:15 13 May</td>\n",
       "      <td>No info</td>\n",
       "      <td>10991</td>\n",
       "      <td>3</td>\n",
       "      <td>35.250000</td>\n",
       "    </tr>\n",
       "    <tr>\n",
       "      <th>924</th>\n",
       "      <td>Jet Airways</td>\n",
       "      <td>6/03/2019</td>\n",
       "      <td>Delhi</td>\n",
       "      <td>Cochin</td>\n",
       "      <td>16:50</td>\n",
       "      <td>04:25 08 Mar</td>\n",
       "      <td>No info</td>\n",
       "      <td>19907</td>\n",
       "      <td>2</td>\n",
       "      <td>35.583333</td>\n",
       "    </tr>\n",
       "    <tr>\n",
       "      <th>...</th>\n",
       "      <td>...</td>\n",
       "      <td>...</td>\n",
       "      <td>...</td>\n",
       "      <td>...</td>\n",
       "      <td>...</td>\n",
       "      <td>...</td>\n",
       "      <td>...</td>\n",
       "      <td>...</td>\n",
       "      <td>...</td>\n",
       "      <td>...</td>\n",
       "    </tr>\n",
       "    <tr>\n",
       "      <th>9526</th>\n",
       "      <td>Air India</td>\n",
       "      <td>3/03/2019</td>\n",
       "      <td>Delhi</td>\n",
       "      <td>Cochin</td>\n",
       "      <td>05:55</td>\n",
       "      <td>19:15 04 Mar</td>\n",
       "      <td>No info</td>\n",
       "      <td>13748</td>\n",
       "      <td>2</td>\n",
       "      <td>37.333333</td>\n",
       "    </tr>\n",
       "    <tr>\n",
       "      <th>9831</th>\n",
       "      <td>Air India</td>\n",
       "      <td>9/05/2019</td>\n",
       "      <td>Delhi</td>\n",
       "      <td>Cochin</td>\n",
       "      <td>05:00</td>\n",
       "      <td>19:15 10 May</td>\n",
       "      <td>No info</td>\n",
       "      <td>9653</td>\n",
       "      <td>2</td>\n",
       "      <td>38.250000</td>\n",
       "    </tr>\n",
       "    <tr>\n",
       "      <th>10121</th>\n",
       "      <td>Air India</td>\n",
       "      <td>03/03/2019</td>\n",
       "      <td>Banglore</td>\n",
       "      <td>New Delhi</td>\n",
       "      <td>05:50</td>\n",
       "      <td>22:10 07 Mar</td>\n",
       "      <td>No info</td>\n",
       "      <td>11791</td>\n",
       "      <td>2</td>\n",
       "      <td>40.333333</td>\n",
       "    </tr>\n",
       "    <tr>\n",
       "      <th>10247</th>\n",
       "      <td>Jet Airways</td>\n",
       "      <td>6/03/2019</td>\n",
       "      <td>Delhi</td>\n",
       "      <td>Cochin</td>\n",
       "      <td>19:10</td>\n",
       "      <td>18:50 08 Mar</td>\n",
       "      <td>No info</td>\n",
       "      <td>20694</td>\n",
       "      <td>2</td>\n",
       "      <td>47.666667</td>\n",
       "    </tr>\n",
       "    <tr>\n",
       "      <th>10420</th>\n",
       "      <td>Air India</td>\n",
       "      <td>3/06/2019</td>\n",
       "      <td>Delhi</td>\n",
       "      <td>Cochin</td>\n",
       "      <td>05:15</td>\n",
       "      <td>19:15 04 Jun</td>\n",
       "      <td>No info</td>\n",
       "      <td>10493</td>\n",
       "      <td>3</td>\n",
       "      <td>38.633333</td>\n",
       "    </tr>\n",
       "  </tbody>\n",
       "</table>\n",
       "<p>74 rows × 10 columns</p>\n",
       "</div>"
      ],
      "text/plain": [
       "           Airline Date_of_Journey    Source Destination Dep_Time  \\\n",
       "226    Jet Airways       3/03/2019     Delhi      Cochin    05:25   \n",
       "470    Jet Airways      21/03/2019     Delhi      Cochin    18:20   \n",
       "553      Air India       9/03/2019     Delhi      Cochin    05:00   \n",
       "918      Air India      12/05/2019   Kolkata    Banglore    12:00   \n",
       "924    Jet Airways       6/03/2019     Delhi      Cochin    16:50   \n",
       "...            ...             ...       ...         ...      ...   \n",
       "9526     Air India       3/03/2019     Delhi      Cochin    05:55   \n",
       "9831     Air India       9/05/2019     Delhi      Cochin    05:00   \n",
       "10121    Air India      03/03/2019  Banglore   New Delhi    05:50   \n",
       "10247  Jet Airways       6/03/2019     Delhi      Cochin    19:10   \n",
       "10420    Air India       3/06/2019     Delhi      Cochin    05:15   \n",
       "\n",
       "       Arrival_Time Additional_Info  Price  No_stops  duration_modif  \n",
       "226    18:50 04 Mar         No info  18799         2       37.416667  \n",
       "470    04:25 23 Mar         No info  13082         2       34.083333  \n",
       "553    19:15 10 Mar         No info  10598         2       38.250000  \n",
       "918    23:15 13 May         No info  10991         3       35.250000  \n",
       "924    04:25 08 Mar         No info  19907         2       35.583333  \n",
       "...             ...             ...    ...       ...             ...  \n",
       "9526   19:15 04 Mar         No info  13748         2       37.333333  \n",
       "9831   19:15 10 May         No info   9653         2       38.250000  \n",
       "10121  22:10 07 Mar         No info  11791         2       40.333333  \n",
       "10247  18:50 08 Mar         No info  20694         2       47.666667  \n",
       "10420  19:15 04 Jun         No info  10493         3       38.633333  \n",
       "\n",
       "[74 rows x 10 columns]"
      ]
     },
     "execution_count": 168,
     "metadata": {},
     "output_type": "execute_result"
    }
   ],
   "source": [
    "df.iloc[duration_outliers_indies]"
   ]
  },
  {
   "cell_type": "code",
   "execution_count": null,
   "id": "f7eeb754",
   "metadata": {},
   "outputs": [],
   "source": []
  },
  {
   "cell_type": "markdown",
   "id": "13258ce5",
   "metadata": {},
   "source": [
    "# featuer engineering"
   ]
  },
  {
   "cell_type": "raw",
   "id": "4bd5b31b",
   "metadata": {},
   "source": [
    "date & time "
   ]
  },
  {
   "cell_type": "markdown",
   "id": "0314fba4",
   "metadata": {},
   "source": [
    "1) Date_of_Journey"
   ]
  },
  {
   "cell_type": "code",
   "execution_count": 169,
   "id": "f3fc8204",
   "metadata": {},
   "outputs": [],
   "source": [
    "df['Date_of_Journey']=pd.to_datetime(df['Date_of_Journey'], format='%d/%m/%Y')"
   ]
  },
  {
   "cell_type": "code",
   "execution_count": 170,
   "id": "beb4ef7d",
   "metadata": {},
   "outputs": [],
   "source": [
    "df['Month'] = df['Date_of_Journey'].dt.month"
   ]
  },
  {
   "cell_type": "code",
   "execution_count": 171,
   "id": "f5971d43",
   "metadata": {},
   "outputs": [],
   "source": [
    "df['Day_Name'] = df['Date_of_Journey'].dt.day_name()"
   ]
  },
  {
   "cell_type": "markdown",
   "id": "34175ed7",
   "metadata": {},
   "source": [
    "2) Dep_Time"
   ]
  },
  {
   "cell_type": "code",
   "execution_count": 172,
   "id": "64002af9",
   "metadata": {},
   "outputs": [],
   "source": [
    "df['Dep_Time']=pd.to_datetime(df['Dep_Time'], format='%H:%M')"
   ]
  },
  {
   "cell_type": "code",
   "execution_count": 173,
   "id": "f8c24b09",
   "metadata": {},
   "outputs": [
    {
     "data": {
      "text/plain": [
       "0       1900-01-01 22:20:00\n",
       "1       1900-01-01 05:50:00\n",
       "2       1900-01-01 09:25:00\n",
       "3       1900-01-01 18:05:00\n",
       "4       1900-01-01 16:50:00\n",
       "                ...        \n",
       "10457   1900-01-01 19:55:00\n",
       "10458   1900-01-01 20:45:00\n",
       "10459   1900-01-01 08:20:00\n",
       "10460   1900-01-01 11:30:00\n",
       "10461   1900-01-01 10:55:00\n",
       "Name: Dep_Time, Length: 10462, dtype: datetime64[ns]"
      ]
     },
     "execution_count": 173,
     "metadata": {},
     "output_type": "execute_result"
    }
   ],
   "source": [
    "df['Dep_Time']"
   ]
  },
  {
   "cell_type": "code",
   "execution_count": 174,
   "id": "c6f5d340",
   "metadata": {},
   "outputs": [],
   "source": [
    "df['Dep_Hour'] = df['Dep_Time'].dt.hour\n",
    "df['DEP_Minute'] = df['Dep_Time'].dt.minute"
   ]
  },
  {
   "cell_type": "code",
   "execution_count": 175,
   "id": "00595026",
   "metadata": {},
   "outputs": [],
   "source": [
    "df.drop(['Dep_Time'] , axis =1 , inplace= True)"
   ]
  },
  {
   "cell_type": "code",
   "execution_count": 176,
   "id": "49f645bd",
   "metadata": {},
   "outputs": [],
   "source": [
    "def map_hours(x):\n",
    "    if x in range(0, 13):\n",
    "        return 'morning'\n",
    "    elif x in range(13, 19):\n",
    "        return 'afternoon'\n",
    "    else:\n",
    "        return 'evening'\n",
    "    \n",
    "df['Period_of_day'] = df['Dep_Hour'].apply(map_hours)"
   ]
  },
  {
   "cell_type": "code",
   "execution_count": 177,
   "id": "50b293b3",
   "metadata": {},
   "outputs": [
    {
     "data": {
      "text/plain": [
       "morning      5448\n",
       "afternoon    2826\n",
       "evening      2188\n",
       "Name: Period_of_day, dtype: int64"
      ]
     },
     "execution_count": 177,
     "metadata": {},
     "output_type": "execute_result"
    }
   ],
   "source": [
    "df['Period_of_day'].value_counts()"
   ]
  },
  {
   "cell_type": "code",
   "execution_count": 178,
   "id": "28617be2",
   "metadata": {},
   "outputs": [
    {
     "data": {
      "text/html": [
       "<div>\n",
       "<style scoped>\n",
       "    .dataframe tbody tr th:only-of-type {\n",
       "        vertical-align: middle;\n",
       "    }\n",
       "\n",
       "    .dataframe tbody tr th {\n",
       "        vertical-align: top;\n",
       "    }\n",
       "\n",
       "    .dataframe thead th {\n",
       "        text-align: right;\n",
       "    }\n",
       "</style>\n",
       "<table border=\"1\" class=\"dataframe\">\n",
       "  <thead>\n",
       "    <tr style=\"text-align: right;\">\n",
       "      <th></th>\n",
       "      <th>Airline</th>\n",
       "      <th>Date_of_Journey</th>\n",
       "      <th>Source</th>\n",
       "      <th>Destination</th>\n",
       "      <th>Arrival_Time</th>\n",
       "      <th>Additional_Info</th>\n",
       "      <th>Price</th>\n",
       "      <th>No_stops</th>\n",
       "      <th>duration_modif</th>\n",
       "      <th>Month</th>\n",
       "      <th>Day_Name</th>\n",
       "      <th>Dep_Hour</th>\n",
       "      <th>DEP_Minute</th>\n",
       "      <th>Period_of_day</th>\n",
       "    </tr>\n",
       "  </thead>\n",
       "  <tbody>\n",
       "    <tr>\n",
       "      <th>0</th>\n",
       "      <td>IndiGo</td>\n",
       "      <td>2019-03-24</td>\n",
       "      <td>Banglore</td>\n",
       "      <td>New Delhi</td>\n",
       "      <td>01:10 22 Mar</td>\n",
       "      <td>No info</td>\n",
       "      <td>3897</td>\n",
       "      <td>0</td>\n",
       "      <td>2.833333</td>\n",
       "      <td>3</td>\n",
       "      <td>Sunday</td>\n",
       "      <td>22</td>\n",
       "      <td>20</td>\n",
       "      <td>evening</td>\n",
       "    </tr>\n",
       "    <tr>\n",
       "      <th>1</th>\n",
       "      <td>Air India</td>\n",
       "      <td>2019-05-01</td>\n",
       "      <td>Kolkata</td>\n",
       "      <td>Banglore</td>\n",
       "      <td>13:15</td>\n",
       "      <td>No info</td>\n",
       "      <td>7662</td>\n",
       "      <td>2</td>\n",
       "      <td>7.416667</td>\n",
       "      <td>5</td>\n",
       "      <td>Wednesday</td>\n",
       "      <td>5</td>\n",
       "      <td>50</td>\n",
       "      <td>morning</td>\n",
       "    </tr>\n",
       "    <tr>\n",
       "      <th>2</th>\n",
       "      <td>Jet Airways</td>\n",
       "      <td>2019-06-09</td>\n",
       "      <td>Delhi</td>\n",
       "      <td>Cochin</td>\n",
       "      <td>04:25 10 Jun</td>\n",
       "      <td>No info</td>\n",
       "      <td>13882</td>\n",
       "      <td>2</td>\n",
       "      <td>19.316667</td>\n",
       "      <td>6</td>\n",
       "      <td>Sunday</td>\n",
       "      <td>9</td>\n",
       "      <td>25</td>\n",
       "      <td>morning</td>\n",
       "    </tr>\n",
       "    <tr>\n",
       "      <th>3</th>\n",
       "      <td>IndiGo</td>\n",
       "      <td>2019-05-12</td>\n",
       "      <td>Kolkata</td>\n",
       "      <td>Banglore</td>\n",
       "      <td>23:30</td>\n",
       "      <td>No info</td>\n",
       "      <td>6218</td>\n",
       "      <td>1</td>\n",
       "      <td>5.416667</td>\n",
       "      <td>5</td>\n",
       "      <td>Sunday</td>\n",
       "      <td>18</td>\n",
       "      <td>5</td>\n",
       "      <td>afternoon</td>\n",
       "    </tr>\n",
       "    <tr>\n",
       "      <th>4</th>\n",
       "      <td>IndiGo</td>\n",
       "      <td>2019-03-01</td>\n",
       "      <td>Banglore</td>\n",
       "      <td>New Delhi</td>\n",
       "      <td>21:35</td>\n",
       "      <td>No info</td>\n",
       "      <td>13302</td>\n",
       "      <td>1</td>\n",
       "      <td>4.750000</td>\n",
       "      <td>3</td>\n",
       "      <td>Friday</td>\n",
       "      <td>16</td>\n",
       "      <td>50</td>\n",
       "      <td>afternoon</td>\n",
       "    </tr>\n",
       "    <tr>\n",
       "      <th>...</th>\n",
       "      <td>...</td>\n",
       "      <td>...</td>\n",
       "      <td>...</td>\n",
       "      <td>...</td>\n",
       "      <td>...</td>\n",
       "      <td>...</td>\n",
       "      <td>...</td>\n",
       "      <td>...</td>\n",
       "      <td>...</td>\n",
       "      <td>...</td>\n",
       "      <td>...</td>\n",
       "      <td>...</td>\n",
       "      <td>...</td>\n",
       "      <td>...</td>\n",
       "    </tr>\n",
       "    <tr>\n",
       "      <th>10457</th>\n",
       "      <td>Air Asia</td>\n",
       "      <td>2019-04-09</td>\n",
       "      <td>Kolkata</td>\n",
       "      <td>Banglore</td>\n",
       "      <td>22:25</td>\n",
       "      <td>No info</td>\n",
       "      <td>4107</td>\n",
       "      <td>0</td>\n",
       "      <td>2.500000</td>\n",
       "      <td>4</td>\n",
       "      <td>Tuesday</td>\n",
       "      <td>19</td>\n",
       "      <td>55</td>\n",
       "      <td>evening</td>\n",
       "    </tr>\n",
       "    <tr>\n",
       "      <th>10458</th>\n",
       "      <td>Air India</td>\n",
       "      <td>2019-04-27</td>\n",
       "      <td>Kolkata</td>\n",
       "      <td>Banglore</td>\n",
       "      <td>23:20</td>\n",
       "      <td>No info</td>\n",
       "      <td>4145</td>\n",
       "      <td>0</td>\n",
       "      <td>2.583333</td>\n",
       "      <td>4</td>\n",
       "      <td>Saturday</td>\n",
       "      <td>20</td>\n",
       "      <td>45</td>\n",
       "      <td>evening</td>\n",
       "    </tr>\n",
       "    <tr>\n",
       "      <th>10459</th>\n",
       "      <td>Jet Airways</td>\n",
       "      <td>2019-04-27</td>\n",
       "      <td>Banglore</td>\n",
       "      <td>Delhi</td>\n",
       "      <td>11:20</td>\n",
       "      <td>No info</td>\n",
       "      <td>7229</td>\n",
       "      <td>0</td>\n",
       "      <td>3.050000</td>\n",
       "      <td>4</td>\n",
       "      <td>Saturday</td>\n",
       "      <td>8</td>\n",
       "      <td>20</td>\n",
       "      <td>morning</td>\n",
       "    </tr>\n",
       "    <tr>\n",
       "      <th>10460</th>\n",
       "      <td>Vistara</td>\n",
       "      <td>2019-03-01</td>\n",
       "      <td>Banglore</td>\n",
       "      <td>New Delhi</td>\n",
       "      <td>14:10</td>\n",
       "      <td>No info</td>\n",
       "      <td>12648</td>\n",
       "      <td>0</td>\n",
       "      <td>2.666667</td>\n",
       "      <td>3</td>\n",
       "      <td>Friday</td>\n",
       "      <td>11</td>\n",
       "      <td>30</td>\n",
       "      <td>morning</td>\n",
       "    </tr>\n",
       "    <tr>\n",
       "      <th>10461</th>\n",
       "      <td>Air India</td>\n",
       "      <td>2019-05-09</td>\n",
       "      <td>Delhi</td>\n",
       "      <td>Cochin</td>\n",
       "      <td>19:15</td>\n",
       "      <td>No info</td>\n",
       "      <td>11753</td>\n",
       "      <td>2</td>\n",
       "      <td>8.333333</td>\n",
       "      <td>5</td>\n",
       "      <td>Thursday</td>\n",
       "      <td>10</td>\n",
       "      <td>55</td>\n",
       "      <td>morning</td>\n",
       "    </tr>\n",
       "  </tbody>\n",
       "</table>\n",
       "<p>10462 rows × 14 columns</p>\n",
       "</div>"
      ],
      "text/plain": [
       "           Airline Date_of_Journey    Source Destination  Arrival_Time  \\\n",
       "0           IndiGo      2019-03-24  Banglore   New Delhi  01:10 22 Mar   \n",
       "1        Air India      2019-05-01   Kolkata    Banglore         13:15   \n",
       "2      Jet Airways      2019-06-09     Delhi      Cochin  04:25 10 Jun   \n",
       "3           IndiGo      2019-05-12   Kolkata    Banglore         23:30   \n",
       "4           IndiGo      2019-03-01  Banglore   New Delhi         21:35   \n",
       "...            ...             ...       ...         ...           ...   \n",
       "10457     Air Asia      2019-04-09   Kolkata    Banglore         22:25   \n",
       "10458    Air India      2019-04-27   Kolkata    Banglore         23:20   \n",
       "10459  Jet Airways      2019-04-27  Banglore       Delhi         11:20   \n",
       "10460      Vistara      2019-03-01  Banglore   New Delhi         14:10   \n",
       "10461    Air India      2019-05-09     Delhi      Cochin         19:15   \n",
       "\n",
       "      Additional_Info  Price  No_stops  duration_modif  Month   Day_Name  \\\n",
       "0             No info   3897         0        2.833333      3     Sunday   \n",
       "1             No info   7662         2        7.416667      5  Wednesday   \n",
       "2             No info  13882         2       19.316667      6     Sunday   \n",
       "3             No info   6218         1        5.416667      5     Sunday   \n",
       "4             No info  13302         1        4.750000      3     Friday   \n",
       "...               ...    ...       ...             ...    ...        ...   \n",
       "10457         No info   4107         0        2.500000      4    Tuesday   \n",
       "10458         No info   4145         0        2.583333      4   Saturday   \n",
       "10459         No info   7229         0        3.050000      4   Saturday   \n",
       "10460         No info  12648         0        2.666667      3     Friday   \n",
       "10461         No info  11753         2        8.333333      5   Thursday   \n",
       "\n",
       "       Dep_Hour  DEP_Minute Period_of_day  \n",
       "0            22          20       evening  \n",
       "1             5          50       morning  \n",
       "2             9          25       morning  \n",
       "3            18           5     afternoon  \n",
       "4            16          50     afternoon  \n",
       "...         ...         ...           ...  \n",
       "10457        19          55       evening  \n",
       "10458        20          45       evening  \n",
       "10459         8          20       morning  \n",
       "10460        11          30       morning  \n",
       "10461        10          55       morning  \n",
       "\n",
       "[10462 rows x 14 columns]"
      ]
     },
     "execution_count": 178,
     "metadata": {},
     "output_type": "execute_result"
    }
   ],
   "source": [
    "df"
   ]
  },
  {
   "cell_type": "code",
   "execution_count": 179,
   "id": "5d13d4cc",
   "metadata": {},
   "outputs": [],
   "source": [
    "df.drop(['Arrival_Time'] , axis =1 , inplace= True)"
   ]
  },
  {
   "cell_type": "code",
   "execution_count": null,
   "id": "cb64ef40",
   "metadata": {},
   "outputs": [],
   "source": []
  },
  {
   "cell_type": "markdown",
   "id": "9c5ed3ec",
   "metadata": {},
   "source": [
    "# saving the modifed data"
   ]
  },
  {
   "cell_type": "code",
   "execution_count": 180,
   "id": "01d3b4a7",
   "metadata": {},
   "outputs": [],
   "source": [
    "df.to_excel('modifed_data.xlsx')"
   ]
  },
  {
   "cell_type": "markdown",
   "id": "52a124d2",
   "metadata": {},
   "source": [
    "# questions"
   ]
  },
  {
   "cell_type": "code",
   "execution_count": null,
   "id": "2e59b13e",
   "metadata": {},
   "outputs": [],
   "source": []
  },
  {
   "cell_type": "markdown",
   "id": "9df4b396",
   "metadata": {},
   "source": [
    "what is the highest expensive ticket ? & which type of airline ?"
   ]
  },
  {
   "cell_type": "code",
   "execution_count": 181,
   "id": "fd7a7e6a",
   "metadata": {},
   "outputs": [
    {
     "data": {
      "text/html": [
       "<div>\n",
       "<style scoped>\n",
       "    .dataframe tbody tr th:only-of-type {\n",
       "        vertical-align: middle;\n",
       "    }\n",
       "\n",
       "    .dataframe tbody tr th {\n",
       "        vertical-align: top;\n",
       "    }\n",
       "\n",
       "    .dataframe thead th {\n",
       "        text-align: right;\n",
       "    }\n",
       "</style>\n",
       "<table border=\"1\" class=\"dataframe\">\n",
       "  <thead>\n",
       "    <tr style=\"text-align: right;\">\n",
       "      <th></th>\n",
       "      <th>Airline</th>\n",
       "      <th>Date_of_Journey</th>\n",
       "      <th>Source</th>\n",
       "      <th>Destination</th>\n",
       "      <th>Additional_Info</th>\n",
       "      <th>Price</th>\n",
       "      <th>No_stops</th>\n",
       "      <th>duration_modif</th>\n",
       "      <th>Month</th>\n",
       "      <th>Day_Name</th>\n",
       "      <th>Dep_Hour</th>\n",
       "      <th>DEP_Minute</th>\n",
       "      <th>Period_of_day</th>\n",
       "    </tr>\n",
       "  </thead>\n",
       "  <tbody>\n",
       "    <tr>\n",
       "      <th>2904</th>\n",
       "      <td>Jet Airways Business</td>\n",
       "      <td>2019-03-01</td>\n",
       "      <td>Banglore</td>\n",
       "      <td>New Delhi</td>\n",
       "      <td>Business class</td>\n",
       "      <td>79512</td>\n",
       "      <td>1</td>\n",
       "      <td>5.666667</td>\n",
       "      <td>3</td>\n",
       "      <td>Friday</td>\n",
       "      <td>5</td>\n",
       "      <td>45</td>\n",
       "      <td>morning</td>\n",
       "    </tr>\n",
       "  </tbody>\n",
       "</table>\n",
       "</div>"
      ],
      "text/plain": [
       "                   Airline Date_of_Journey    Source Destination  \\\n",
       "2904  Jet Airways Business      2019-03-01  Banglore   New Delhi   \n",
       "\n",
       "     Additional_Info  Price  No_stops  duration_modif  Month Day_Name  \\\n",
       "2904  Business class  79512         1        5.666667      3   Friday   \n",
       "\n",
       "      Dep_Hour  DEP_Minute Period_of_day  \n",
       "2904         5          45       morning  "
      ]
     },
     "execution_count": 181,
     "metadata": {},
     "output_type": "execute_result"
    }
   ],
   "source": [
    "df[df['Price']==df['Price'].max()]"
   ]
  },
  {
   "cell_type": "code",
   "execution_count": 182,
   "id": "b6b35ac4",
   "metadata": {},
   "outputs": [
    {
     "data": {
      "text/plain": [
       "2904    Jet Airways Business\n",
       "Name: Airline, dtype: object"
      ]
     },
     "execution_count": 182,
     "metadata": {},
     "output_type": "execute_result"
    }
   ],
   "source": [
    "df[df['Price']==df['Price'].max()]['Airline']"
   ]
  },
  {
   "cell_type": "markdown",
   "id": "bfa8d887",
   "metadata": {},
   "source": [
    "1) is a  Relation bet. airline & price ?"
   ]
  },
  {
   "cell_type": "code",
   "execution_count": 183,
   "id": "8c5be8e3",
   "metadata": {},
   "outputs": [
    {
     "data": {
      "text/plain": [
       "<AxesSubplot:xlabel='Price', ylabel='Airline'>"
      ]
     },
     "execution_count": 183,
     "metadata": {},
     "output_type": "execute_result"
    },
    {
     "data": {
      "image/png": "[encoded data removed]",
      "text/plain": [
       "<Figure size 432x288 with 1 Axes>"
      ]
     },
     "metadata": {
      "needs_background": "light"
     },
     "output_type": "display_data"
    }
   ],
   "source": [
    "sns.barplot(data = df , y='Airline' , x='Price' , estimator=sum )"
   ]
  },
  {
   "cell_type": "code",
   "execution_count": 184,
   "id": "8a95e8f4",
   "metadata": {},
   "outputs": [
    {
     "data": {
      "text/plain": [
       "Airline\n",
       "Jet Airways                          42916378\n",
       "Air India                            16188894\n",
       "Multiple carriers                    13039603\n",
       "IndiGo                               11580684\n",
       "Vistara                               3729048\n",
       "SpiceJet                              3533711\n",
       "Air Asia                              1783293\n",
       "GoAir                                 1137045\n",
       "Jet Airways Business                   350152\n",
       "Multiple carriers Premium economy      148445\n",
       "Vistara Premium economy                 26887\n",
       "Trujet                                   4140\n",
       "Name: Price, dtype: int64"
      ]
     },
     "execution_count": 184,
     "metadata": {},
     "output_type": "execute_result"
    }
   ],
   "source": [
    "df.groupby('Airline').sum()['Price'].sort_values(ascending = False)"
   ]
  },
  {
   "cell_type": "markdown",
   "id": "c8641083",
   "metadata": {},
   "source": [
    "2) what is the differance between economy and business in  tikets_price?"
   ]
  },
  {
   "cell_type": "code",
   "execution_count": 185,
   "id": "174a6afb",
   "metadata": {},
   "outputs": [
    {
     "data": {
      "text/plain": [
       "<AxesSubplot:xlabel='Price', ylabel='Airline'>"
      ]
     },
     "execution_count": 185,
     "metadata": {},
     "output_type": "execute_result"
    },
    {
     "data": {
      "image/png": "[encoded data removed]",
      "text/plain": [
       "<Figure size 432x288 with 1 Axes>"
      ]
     },
     "metadata": {
      "needs_background": "light"
     },
     "output_type": "display_data"
    }
   ],
   "source": [
    "sns.barplot(data = df , y='Airline' , x='Price' , estimator=max )"
   ]
  },
  {
   "cell_type": "code",
   "execution_count": 186,
   "id": "f678583f",
   "metadata": {},
   "outputs": [
    {
     "data": {
      "text/plain": [
       "Airline\n",
       "Jet Airways Business                 79512\n",
       "Jet Airways                          54826\n",
       "Multiple carriers                    36983\n",
       "Air India                            31945\n",
       "SpiceJet                             23267\n",
       "GoAir                                22794\n",
       "IndiGo                               22153\n",
       "Vistara                              21730\n",
       "Multiple carriers Premium economy    14629\n",
       "Air Asia                             13774\n",
       "Vistara Premium economy              11793\n",
       "Trujet                                4140\n",
       "Name: Price, dtype: int64"
      ]
     },
     "execution_count": 186,
     "metadata": {},
     "output_type": "execute_result"
    }
   ],
   "source": [
    "df.groupby('Airline').max()['Price'].sort_values(ascending = False)"
   ]
  },
  {
   "cell_type": "markdown",
   "id": "bc020408",
   "metadata": {},
   "source": [
    "3) is the dep_time of journy affected on price of ticket ?"
   ]
  },
  {
   "cell_type": "code",
   "execution_count": 187,
   "id": "3536ceb7",
   "metadata": {},
   "outputs": [
    {
     "data": {
      "text/plain": [
       "<AxesSubplot:xlabel='Period_of_day', ylabel='Price'>"
      ]
     },
     "execution_count": 187,
     "metadata": {},
     "output_type": "execute_result"
    },
    {
     "data": {
      "image/png": "[encoded data removed]",
      "text/plain": [
       "<Figure size 432x288 with 1 Axes>"
      ]
     },
     "metadata": {
      "needs_background": "light"
     },
     "output_type": "display_data"
    }
   ],
   "source": [
    "sns.barplot(data = df , x='Period_of_day' , y='Price' , estimator=max )"
   ]
  },
  {
   "cell_type": "code",
   "execution_count": 188,
   "id": "bb8c94c0",
   "metadata": {},
   "outputs": [
    {
     "data": {
      "text/plain": [
       "Period_of_day\n",
       "morning      49154863\n",
       "afternoon    26301369\n",
       "evening      18982048\n",
       "Name: Price, dtype: int64"
      ]
     },
     "execution_count": 188,
     "metadata": {},
     "output_type": "execute_result"
    }
   ],
   "source": [
    "df.groupby('Period_of_day').sum()['Price'].sort_values(ascending = False)"
   ]
  },
  {
   "cell_type": "markdown",
   "id": "5d6d525d",
   "metadata": {},
   "source": [
    "4) How the price changes with change in Source and Destination?"
   ]
  },
  {
   "cell_type": "code",
   "execution_count": 189,
   "id": "12309ba5",
   "metadata": {},
   "outputs": [],
   "source": [
    "x = pd.pivot_table(data = df , columns= 'Source' , index ='Destination' , values ='Price' , aggfunc=sum)"
   ]
  },
  {
   "cell_type": "code",
   "execution_count": 190,
   "id": "e96d49fd",
   "metadata": {},
   "outputs": [
    {
     "data": {
      "text/html": [
       "<div>\n",
       "<style scoped>\n",
       "    .dataframe tbody tr th:only-of-type {\n",
       "        vertical-align: middle;\n",
       "    }\n",
       "\n",
       "    .dataframe tbody tr th {\n",
       "        vertical-align: top;\n",
       "    }\n",
       "\n",
       "    .dataframe thead th {\n",
       "        text-align: right;\n",
       "    }\n",
       "</style>\n",
       "<table border=\"1\" class=\"dataframe\">\n",
       "  <thead>\n",
       "    <tr style=\"text-align: right;\">\n",
       "      <th>Source</th>\n",
       "      <th>Banglore</th>\n",
       "      <th>Chennai</th>\n",
       "      <th>Delhi</th>\n",
       "      <th>Kolkata</th>\n",
       "      <th>Mumbai</th>\n",
       "    </tr>\n",
       "    <tr>\n",
       "      <th>Destination</th>\n",
       "      <th></th>\n",
       "      <th></th>\n",
       "      <th></th>\n",
       "      <th></th>\n",
       "      <th></th>\n",
       "    </tr>\n",
       "  </thead>\n",
       "  <tbody>\n",
       "    <tr>\n",
       "      <th>Banglore</th>\n",
       "      <td>NaN</td>\n",
       "      <td>NaN</td>\n",
       "      <td>NaN</td>\n",
       "      <td>26149219.0</td>\n",
       "      <td>NaN</td>\n",
       "    </tr>\n",
       "    <tr>\n",
       "      <th>Cochin</th>\n",
       "      <td>NaN</td>\n",
       "      <td>NaN</td>\n",
       "      <td>45455655.0</td>\n",
       "      <td>NaN</td>\n",
       "      <td>NaN</td>\n",
       "    </tr>\n",
       "    <tr>\n",
       "      <th>Delhi</th>\n",
       "      <td>6507057.0</td>\n",
       "      <td>NaN</td>\n",
       "      <td>NaN</td>\n",
       "      <td>NaN</td>\n",
       "      <td>NaN</td>\n",
       "    </tr>\n",
       "    <tr>\n",
       "      <th>Hyderabad</th>\n",
       "      <td>NaN</td>\n",
       "      <td>NaN</td>\n",
       "      <td>NaN</td>\n",
       "      <td>NaN</td>\n",
       "      <td>3526617.0</td>\n",
       "    </tr>\n",
       "    <tr>\n",
       "      <th>Kolkata</th>\n",
       "      <td>NaN</td>\n",
       "      <td>1824949.0</td>\n",
       "      <td>NaN</td>\n",
       "      <td>NaN</td>\n",
       "      <td>NaN</td>\n",
       "    </tr>\n",
       "    <tr>\n",
       "      <th>New Delhi</th>\n",
       "      <td>10974783.0</td>\n",
       "      <td>NaN</td>\n",
       "      <td>NaN</td>\n",
       "      <td>NaN</td>\n",
       "      <td>NaN</td>\n",
       "    </tr>\n",
       "  </tbody>\n",
       "</table>\n",
       "</div>"
      ],
      "text/plain": [
       "Source         Banglore    Chennai       Delhi     Kolkata     Mumbai\n",
       "Destination                                                          \n",
       "Banglore            NaN        NaN         NaN  26149219.0        NaN\n",
       "Cochin              NaN        NaN  45455655.0         NaN        NaN\n",
       "Delhi         6507057.0        NaN         NaN         NaN        NaN\n",
       "Hyderabad           NaN        NaN         NaN         NaN  3526617.0\n",
       "Kolkata             NaN  1824949.0         NaN         NaN        NaN\n",
       "New Delhi    10974783.0        NaN         NaN         NaN        NaN"
      ]
     },
     "execution_count": 190,
     "metadata": {},
     "output_type": "execute_result"
    }
   ],
   "source": [
    "x"
   ]
  },
  {
   "cell_type": "code",
   "execution_count": 191,
   "id": "56265f41",
   "metadata": {},
   "outputs": [
    {
     "data": {
      "text/plain": [
       "<AxesSubplot:xlabel='Source', ylabel='Destination'>"
      ]
     },
     "execution_count": 191,
     "metadata": {},
     "output_type": "execute_result"
    },
    {
     "data": {
      "image/png": "[encoded data removed]",
      "text/plain": [
       "<Figure size 432x288 with 2 Axes>"
      ]
     },
     "metadata": {
      "needs_background": "light"
     },
     "output_type": "display_data"
    }
   ],
   "source": [
    "sns.heatmap(x)"
   ]
  },
  {
   "cell_type": "markdown",
   "id": "607a6df6",
   "metadata": {},
   "source": [
    "5) which day of week has the highest number of journy?"
   ]
  },
  {
   "cell_type": "code",
   "execution_count": 192,
   "id": "a336b22e",
   "metadata": {},
   "outputs": [
    {
     "data": {
      "text/plain": [
       "<AxesSubplot:xlabel='Day_Name', ylabel='count'>"
      ]
     },
     "execution_count": 192,
     "metadata": {},
     "output_type": "execute_result"
    },
    {
     "data": {
      "image/png": "[encoded data removed]",
      "text/plain": [
       "<Figure size 432x288 with 1 Axes>"
      ]
     },
     "metadata": {
      "needs_background": "light"
     },
     "output_type": "display_data"
    }
   ],
   "source": [
    "sns.countplot(data=df , x= 'Day_Name')"
   ]
  },
  {
   "cell_type": "markdown",
   "id": "db37a206",
   "metadata": {},
   "source": [
    " 6) is there any corrleation between duration of the trip and price ? "
   ]
  },
  {
   "cell_type": "code",
   "execution_count": 193,
   "id": "840abd7c",
   "metadata": {},
   "outputs": [
    {
     "data": {
      "text/html": [
       "<div>\n",
       "<style scoped>\n",
       "    .dataframe tbody tr th:only-of-type {\n",
       "        vertical-align: middle;\n",
       "    }\n",
       "\n",
       "    .dataframe tbody tr th {\n",
       "        vertical-align: top;\n",
       "    }\n",
       "\n",
       "    .dataframe thead th {\n",
       "        text-align: right;\n",
       "    }\n",
       "</style>\n",
       "<table border=\"1\" class=\"dataframe\">\n",
       "  <thead>\n",
       "    <tr style=\"text-align: right;\">\n",
       "      <th></th>\n",
       "      <th>duration_modif</th>\n",
       "      <th>No_stops</th>\n",
       "      <th>Price</th>\n",
       "    </tr>\n",
       "  </thead>\n",
       "  <tbody>\n",
       "    <tr>\n",
       "      <th>duration_modif</th>\n",
       "      <td>1.000000</td>\n",
       "      <td>0.728291</td>\n",
       "      <td>0.502027</td>\n",
       "    </tr>\n",
       "    <tr>\n",
       "      <th>No_stops</th>\n",
       "      <td>0.728291</td>\n",
       "      <td>1.000000</td>\n",
       "      <td>0.602013</td>\n",
       "    </tr>\n",
       "    <tr>\n",
       "      <th>Price</th>\n",
       "      <td>0.502027</td>\n",
       "      <td>0.602013</td>\n",
       "      <td>1.000000</td>\n",
       "    </tr>\n",
       "  </tbody>\n",
       "</table>\n",
       "</div>"
      ],
      "text/plain": [
       "                duration_modif  No_stops     Price\n",
       "duration_modif        1.000000  0.728291  0.502027\n",
       "No_stops              0.728291  1.000000  0.602013\n",
       "Price                 0.502027  0.602013  1.000000"
      ]
     },
     "execution_count": 193,
     "metadata": {},
     "output_type": "execute_result"
    }
   ],
   "source": [
    "df[['duration_modif','No_stops', 'Price']].corr()"
   ]
  },
  {
   "cell_type": "code",
   "execution_count": 194,
   "id": "e0ca28f9",
   "metadata": {},
   "outputs": [
    {
     "data": {
      "text/plain": [
       "<AxesSubplot:xlabel='duration_modif', ylabel='Price'>"
      ]
     },
     "execution_count": 194,
     "metadata": {},
     "output_type": "execute_result"
    },
    {
     "data": {
      "image/png": "[encoded data removed]",
      "text/plain": [
       "<Figure size 432x288 with 1 Axes>"
      ]
     },
     "metadata": {
      "needs_background": "light"
     },
     "output_type": "display_data"
    }
   ],
   "source": [
    "sns.scatterplot(data = df , x = 'duration_modif' , y ='Price')"
   ]
  },
  {
   "cell_type": "markdown",
   "id": "1863f78e",
   "metadata": {},
   "source": [
    "7) which month and day  has the hightest number of  fligths? "
   ]
  },
  {
   "cell_type": "code",
   "execution_count": 195,
   "id": "3062022a",
   "metadata": {},
   "outputs": [
    {
     "data": {
      "text/plain": [
       "<AxesSubplot:xlabel='Month', ylabel='count'>"
      ]
     },
     "execution_count": 195,
     "metadata": {},
     "output_type": "execute_result"
    },
    {
     "data": {
      "image/png": "[encoded data removed]",
      "text/plain": [
       "<Figure size 432x288 with 1 Axes>"
      ]
     },
     "metadata": {
      "needs_background": "light"
     },
     "output_type": "display_data"
    }
   ],
   "source": [
    "sns.countplot(data=df , x= 'Month' )"
   ]
  },
  {
   "cell_type": "code",
   "execution_count": 196,
   "id": "84dba8d5",
   "metadata": {},
   "outputs": [
    {
     "data": {
      "text/plain": [
       "5    3395\n",
       "6    3311\n",
       "3    2678\n",
       "4    1078\n",
       "Name: Month, dtype: int64"
      ]
     },
     "execution_count": 196,
     "metadata": {},
     "output_type": "execute_result"
    }
   ],
   "source": [
    "df['Month'].value_counts()"
   ]
  },
  {
   "cell_type": "code",
   "execution_count": 197,
   "id": "ba3944b5",
   "metadata": {},
   "outputs": [
    {
     "data": {
      "text/plain": [
       "<AxesSubplot:xlabel='Month', ylabel='count'>"
      ]
     },
     "execution_count": 197,
     "metadata": {},
     "output_type": "execute_result"
    },
    {
     "data": {
      "image/png": "[encoded data removed]",
      "text/plain": [
       "<Figure size 432x288 with 1 Axes>"
      ]
     },
     "metadata": {
      "needs_background": "light"
     },
     "output_type": "display_data"
    }
   ],
   "source": [
    "sns.countplot(data=df , x= 'Month' , hue = 'Day_Name')"
   ]
  },
  {
   "cell_type": "markdown",
   "id": "59f471aa",
   "metadata": {},
   "source": [
    "which month give the highest profit"
   ]
  },
  {
   "cell_type": "code",
   "execution_count": 198,
   "id": "dc5ec7cd",
   "metadata": {},
   "outputs": [
    {
     "data": {
      "text/plain": [
       "Month\n",
       "5    30654269\n",
       "6    28925401\n",
       "3    28642274\n",
       "4     6216336\n",
       "Name: Price, dtype: int64"
      ]
     },
     "execution_count": 198,
     "metadata": {},
     "output_type": "execute_result"
    }
   ],
   "source": [
    "df.groupby('Month').sum()['Price'].sort_values(ascending = False)"
   ]
  },
  {
   "cell_type": "code",
   "execution_count": 199,
   "id": "1ffbdc56",
   "metadata": {},
   "outputs": [
    {
     "data": {
      "text/plain": [
       "<AxesSubplot:xlabel='Month', ylabel='Price'>"
      ]
     },
     "execution_count": 199,
     "metadata": {},
     "output_type": "execute_result"
    },
    {
     "data": {
      "image/png": "[encoded data removed]",
      "text/plain": [
       "<Figure size 432x288 with 1 Axes>"
      ]
     },
     "metadata": {
      "needs_background": "light"
     },
     "output_type": "display_data"
    }
   ],
   "source": [
    "sns.barplot(data = df , x='Month' , y='Price' , estimator=sum , order=df.groupby('Month').sum()['Price'].sort_values(ascending = False).index)"
   ]
  },
  {
   "cell_type": "markdown",
   "id": "872545a6",
   "metadata": {},
   "source": [
    "which source_city has the most flights? "
   ]
  },
  {
   "cell_type": "code",
   "execution_count": 200,
   "id": "8fc388fa",
   "metadata": {},
   "outputs": [
    {
     "data": {
      "text/plain": [
       "<AxesSubplot:xlabel='Source', ylabel='count'>"
      ]
     },
     "execution_count": 200,
     "metadata": {},
     "output_type": "execute_result"
    },
    {
     "data": {
      "image/png": "[encoded data removed]",
      "text/plain": [
       "<Figure size 432x288 with 1 Axes>"
      ]
     },
     "metadata": {
      "needs_background": "light"
     },
     "output_type": "display_data"
    }
   ],
   "source": [
    "sns.countplot(data=df,x= 'Source')"
   ]
  },
  {
   "cell_type": "markdown",
   "id": "8086d407",
   "metadata": {},
   "source": [
    "what is the number of flights that corresbonding to Business class ?"
   ]
  },
  {
   "cell_type": "code",
   "execution_count": 201,
   "id": "01b80c7b",
   "metadata": {},
   "outputs": [
    {
     "data": {
      "text/html": [
       "<div>\n",
       "<style scoped>\n",
       "    .dataframe tbody tr th:only-of-type {\n",
       "        vertical-align: middle;\n",
       "    }\n",
       "\n",
       "    .dataframe tbody tr th {\n",
       "        vertical-align: top;\n",
       "    }\n",
       "\n",
       "    .dataframe thead th {\n",
       "        text-align: right;\n",
       "    }\n",
       "</style>\n",
       "<table border=\"1\" class=\"dataframe\">\n",
       "  <thead>\n",
       "    <tr style=\"text-align: right;\">\n",
       "      <th></th>\n",
       "      <th>Airline</th>\n",
       "      <th>Date_of_Journey</th>\n",
       "      <th>Source</th>\n",
       "      <th>Destination</th>\n",
       "      <th>Additional_Info</th>\n",
       "      <th>Price</th>\n",
       "      <th>No_stops</th>\n",
       "      <th>duration_modif</th>\n",
       "      <th>Month</th>\n",
       "      <th>Day_Name</th>\n",
       "      <th>Dep_Hour</th>\n",
       "      <th>DEP_Minute</th>\n",
       "      <th>Period_of_day</th>\n",
       "    </tr>\n",
       "  </thead>\n",
       "  <tbody>\n",
       "    <tr>\n",
       "      <th>2904</th>\n",
       "      <td>Jet Airways Business</td>\n",
       "      <td>2019-03-01</td>\n",
       "      <td>Banglore</td>\n",
       "      <td>New Delhi</td>\n",
       "      <td>Business class</td>\n",
       "      <td>79512</td>\n",
       "      <td>1</td>\n",
       "      <td>5.666667</td>\n",
       "      <td>3</td>\n",
       "      <td>Friday</td>\n",
       "      <td>5</td>\n",
       "      <td>45</td>\n",
       "      <td>morning</td>\n",
       "    </tr>\n",
       "    <tr>\n",
       "      <th>3010</th>\n",
       "      <td>Jet Airways</td>\n",
       "      <td>2019-03-01</td>\n",
       "      <td>Banglore</td>\n",
       "      <td>New Delhi</td>\n",
       "      <td>Business class</td>\n",
       "      <td>28097</td>\n",
       "      <td>1</td>\n",
       "      <td>6.500000</td>\n",
       "      <td>3</td>\n",
       "      <td>Friday</td>\n",
       "      <td>5</td>\n",
       "      <td>50</td>\n",
       "      <td>morning</td>\n",
       "    </tr>\n",
       "    <tr>\n",
       "      <th>5312</th>\n",
       "      <td>Jet Airways Business</td>\n",
       "      <td>2019-03-01</td>\n",
       "      <td>Banglore</td>\n",
       "      <td>New Delhi</td>\n",
       "      <td>Business class</td>\n",
       "      <td>62427</td>\n",
       "      <td>1</td>\n",
       "      <td>6.666667</td>\n",
       "      <td>3</td>\n",
       "      <td>Friday</td>\n",
       "      <td>5</td>\n",
       "      <td>45</td>\n",
       "      <td>morning</td>\n",
       "    </tr>\n",
       "    <tr>\n",
       "      <th>10159</th>\n",
       "      <td>Jet Airways Business</td>\n",
       "      <td>2019-03-01</td>\n",
       "      <td>Banglore</td>\n",
       "      <td>New Delhi</td>\n",
       "      <td>Business class</td>\n",
       "      <td>57209</td>\n",
       "      <td>1</td>\n",
       "      <td>4.666667</td>\n",
       "      <td>3</td>\n",
       "      <td>Friday</td>\n",
       "      <td>9</td>\n",
       "      <td>45</td>\n",
       "      <td>morning</td>\n",
       "    </tr>\n",
       "  </tbody>\n",
       "</table>\n",
       "</div>"
      ],
      "text/plain": [
       "                    Airline Date_of_Journey    Source Destination  \\\n",
       "2904   Jet Airways Business      2019-03-01  Banglore   New Delhi   \n",
       "3010            Jet Airways      2019-03-01  Banglore   New Delhi   \n",
       "5312   Jet Airways Business      2019-03-01  Banglore   New Delhi   \n",
       "10159  Jet Airways Business      2019-03-01  Banglore   New Delhi   \n",
       "\n",
       "      Additional_Info  Price  No_stops  duration_modif  Month Day_Name  \\\n",
       "2904   Business class  79512         1        5.666667      3   Friday   \n",
       "3010   Business class  28097         1        6.500000      3   Friday   \n",
       "5312   Business class  62427         1        6.666667      3   Friday   \n",
       "10159  Business class  57209         1        4.666667      3   Friday   \n",
       "\n",
       "       Dep_Hour  DEP_Minute Period_of_day  \n",
       "2904          5          45       morning  \n",
       "3010          5          50       morning  \n",
       "5312          5          45       morning  \n",
       "10159         9          45       morning  "
      ]
     },
     "execution_count": 201,
     "metadata": {},
     "output_type": "execute_result"
    }
   ],
   "source": [
    "df[df['Additional_Info']=='Business class']"
   ]
  },
  {
   "cell_type": "code",
   "execution_count": 202,
   "id": "b7f30b98",
   "metadata": {},
   "outputs": [
    {
     "data": {
      "text/plain": [
       "4"
      ]
     },
     "execution_count": 202,
     "metadata": {},
     "output_type": "execute_result"
    }
   ],
   "source": [
    "df[df['Additional_Info']=='Business class'].shape[0]"
   ]
  },
  {
   "cell_type": "markdown",
   "id": "ca695a36",
   "metadata": {},
   "source": [
    "what is the number of fligths have 2 Long layover ? "
   ]
  },
  {
   "cell_type": "code",
   "execution_count": 203,
   "id": "3bc1777a",
   "metadata": {},
   "outputs": [
    {
     "data": {
      "text/plain": [
       "1"
      ]
     },
     "execution_count": 203,
     "metadata": {},
     "output_type": "execute_result"
    }
   ],
   "source": [
    "df[(df['Additional_Info']=='2 Long layover')].shape[0]"
   ]
  },
  {
   "cell_type": "markdown",
   "id": "e6e52f33",
   "metadata": {},
   "source": [
    "what is the numbur of  flights that have max number of stops ?"
   ]
  },
  {
   "cell_type": "code",
   "execution_count": 204,
   "id": "fe30bb04",
   "metadata": {},
   "outputs": [
    {
     "data": {
      "text/html": [
       "<div>\n",
       "<style scoped>\n",
       "    .dataframe tbody tr th:only-of-type {\n",
       "        vertical-align: middle;\n",
       "    }\n",
       "\n",
       "    .dataframe tbody tr th {\n",
       "        vertical-align: top;\n",
       "    }\n",
       "\n",
       "    .dataframe thead th {\n",
       "        text-align: right;\n",
       "    }\n",
       "</style>\n",
       "<table border=\"1\" class=\"dataframe\">\n",
       "  <thead>\n",
       "    <tr style=\"text-align: right;\">\n",
       "      <th></th>\n",
       "      <th>Airline</th>\n",
       "      <th>Date_of_Journey</th>\n",
       "      <th>Source</th>\n",
       "      <th>Destination</th>\n",
       "      <th>Additional_Info</th>\n",
       "      <th>Price</th>\n",
       "      <th>No_stops</th>\n",
       "      <th>duration_modif</th>\n",
       "      <th>Month</th>\n",
       "      <th>Day_Name</th>\n",
       "      <th>Dep_Hour</th>\n",
       "      <th>DEP_Minute</th>\n",
       "      <th>Period_of_day</th>\n",
       "    </tr>\n",
       "  </thead>\n",
       "  <tbody>\n",
       "    <tr>\n",
       "      <th>9029</th>\n",
       "      <td>Air India</td>\n",
       "      <td>2019-03-01</td>\n",
       "      <td>Banglore</td>\n",
       "      <td>New Delhi</td>\n",
       "      <td>Change airports</td>\n",
       "      <td>17686</td>\n",
       "      <td>4</td>\n",
       "      <td>29.5</td>\n",
       "      <td>3</td>\n",
       "      <td>Friday</td>\n",
       "      <td>5</td>\n",
       "      <td>50</td>\n",
       "      <td>morning</td>\n",
       "    </tr>\n",
       "  </tbody>\n",
       "</table>\n",
       "</div>"
      ],
      "text/plain": [
       "        Airline Date_of_Journey    Source Destination  Additional_Info  Price  \\\n",
       "9029  Air India      2019-03-01  Banglore   New Delhi  Change airports  17686   \n",
       "\n",
       "      No_stops  duration_modif  Month Day_Name  Dep_Hour  DEP_Minute  \\\n",
       "9029         4            29.5      3   Friday         5          50   \n",
       "\n",
       "     Period_of_day  \n",
       "9029       morning  "
      ]
     },
     "execution_count": 204,
     "metadata": {},
     "output_type": "execute_result"
    }
   ],
   "source": [
    "df[df['No_stops']==df['No_stops'].max()]"
   ]
  },
  {
   "cell_type": "code",
   "execution_count": null,
   "id": "16b30c44",
   "metadata": {},
   "outputs": [],
   "source": []
  },
  {
   "cell_type": "code",
   "execution_count": null,
   "id": "a1a1ac19",
   "metadata": {},
   "outputs": [],
   "source": []
  },
  {
   "cell_type": "code",
   "execution_count": null,
   "id": "7d0a4f40",
   "metadata": {},
   "outputs": [],
   "source": []
  },
  {
   "cell_type": "markdown",
   "id": "eea0b0ca",
   "metadata": {},
   "source": [
    "# prepare data to ML model "
   ]
  },
  {
   "cell_type": "code",
   "execution_count": 205,
   "id": "34e5dd8f",
   "metadata": {},
   "outputs": [
    {
     "name": "stdout",
     "output_type": "stream",
     "text": [
      "<class 'pandas.core.frame.DataFrame'>\n",
      "RangeIndex: 10462 entries, 0 to 10461\n",
      "Data columns (total 13 columns):\n",
      " #   Column           Non-Null Count  Dtype         \n",
      "---  ------           --------------  -----         \n",
      " 0   Airline          10462 non-null  object        \n",
      " 1   Date_of_Journey  10462 non-null  datetime64[ns]\n",
      " 2   Source           10462 non-null  object        \n",
      " 3   Destination      10462 non-null  object        \n",
      " 4   Additional_Info  10462 non-null  object        \n",
      " 5   Price            10462 non-null  int64         \n",
      " 6   No_stops         10462 non-null  int64         \n",
      " 7   duration_modif   10462 non-null  float64       \n",
      " 8   Month            10462 non-null  int64         \n",
      " 9   Day_Name         10462 non-null  object        \n",
      " 10  Dep_Hour         10462 non-null  int64         \n",
      " 11  DEP_Minute       10462 non-null  int64         \n",
      " 12  Period_of_day    10462 non-null  object        \n",
      "dtypes: datetime64[ns](1), float64(1), int64(5), object(6)\n",
      "memory usage: 1.0+ MB\n"
     ]
    }
   ],
   "source": [
    "df.info()"
   ]
  },
  {
   "cell_type": "markdown",
   "id": "449cb6ea",
   "metadata": {},
   "source": [
    "# univariant analysis for categorical column"
   ]
  },
  {
   "cell_type": "markdown",
   "id": "fe1c5e1b",
   "metadata": {},
   "source": [
    "1) Airline "
   ]
  },
  {
   "cell_type": "code",
   "execution_count": 206,
   "id": "b30e4e4e",
   "metadata": {},
   "outputs": [
    {
     "data": {
      "text/plain": [
       "Jet Airways                          3700\n",
       "IndiGo                               2043\n",
       "Air India                            1694\n",
       "Multiple carriers                    1196\n",
       "SpiceJet                              815\n",
       "Vistara                               478\n",
       "Air Asia                              319\n",
       "GoAir                                 194\n",
       "Multiple carriers Premium economy      13\n",
       "Jet Airways Business                    6\n",
       "Vistara Premium economy                 3\n",
       "Trujet                                  1\n",
       "Name: Airline, dtype: int64"
      ]
     },
     "execution_count": 206,
     "metadata": {},
     "output_type": "execute_result"
    }
   ],
   "source": [
    "df['Airline'].value_counts()"
   ]
  },
  {
   "cell_type": "code",
   "execution_count": 207,
   "id": "173f401d",
   "metadata": {},
   "outputs": [
    {
     "data": {
      "text/plain": [
       "Delhi       4345\n",
       "Kolkata     2860\n",
       "Banglore    2179\n",
       "Mumbai       697\n",
       "Chennai      381\n",
       "Name: Source, dtype: int64"
      ]
     },
     "execution_count": 207,
     "metadata": {},
     "output_type": "execute_result"
    }
   ],
   "source": [
    "df['Source'].value_counts()"
   ]
  },
  {
   "cell_type": "code",
   "execution_count": 208,
   "id": "afe9c307",
   "metadata": {},
   "outputs": [
    {
     "data": {
      "text/plain": [
       "Cochin       4345\n",
       "Banglore     2860\n",
       "Delhi        1265\n",
       "New Delhi     914\n",
       "Hyderabad     697\n",
       "Kolkata       381\n",
       "Name: Destination, dtype: int64"
      ]
     },
     "execution_count": 208,
     "metadata": {},
     "output_type": "execute_result"
    }
   ],
   "source": [
    "df['Destination'].value_counts()"
   ]
  },
  {
   "cell_type": "code",
   "execution_count": 209,
   "id": "f9f1e62d",
   "metadata": {},
   "outputs": [
    {
     "data": {
      "text/plain": [
       "Wednesday    2048\n",
       "Monday       1807\n",
       "Thursday     1774\n",
       "Saturday     1623\n",
       "Sunday       1449\n",
       "Friday        908\n",
       "Tuesday       853\n",
       "Name: Day_Name, dtype: int64"
      ]
     },
     "execution_count": 209,
     "metadata": {},
     "output_type": "execute_result"
    }
   ],
   "source": [
    "df['Day_Name'].value_counts()"
   ]
  },
  {
   "cell_type": "code",
   "execution_count": 210,
   "id": "20455bc0",
   "metadata": {},
   "outputs": [
    {
     "data": {
      "text/plain": [
       "No info                         8182\n",
       "In-flight meal not included     1926\n",
       "No check-in baggage included     318\n",
       "1 Long layover                    19\n",
       "Change airports                    7\n",
       "Business class                     4\n",
       "No Info                            3\n",
       "1 Short layover                    1\n",
       "Red-eye flight                     1\n",
       "2 Long layover                     1\n",
       "Name: Additional_Info, dtype: int64"
      ]
     },
     "execution_count": 210,
     "metadata": {},
     "output_type": "execute_result"
    }
   ],
   "source": [
    "df['Additional_Info'].value_counts()"
   ]
  },
  {
   "cell_type": "code",
   "execution_count": 211,
   "id": "fc627a84",
   "metadata": {},
   "outputs": [
    {
     "data": {
      "text/plain": [
       "0    No info\n",
       "Name: Additional_Info, dtype: object"
      ]
     },
     "execution_count": 211,
     "metadata": {},
     "output_type": "execute_result"
    }
   ],
   "source": [
    "df['Additional_Info'].mode()"
   ]
  },
  {
   "cell_type": "code",
   "execution_count": 212,
   "id": "b05f0d9c",
   "metadata": {},
   "outputs": [],
   "source": [
    "def modify_info(r):\n",
    "    if r== 'In-flight meal not included':\n",
    "        return r\n",
    "    elif r=='No check-in baggage included':\n",
    "        return r\n",
    "    else :\n",
    "        return 'No info'\n",
    "    \n",
    "    \n",
    "    \n",
    "    "
   ]
  },
  {
   "cell_type": "code",
   "execution_count": 213,
   "id": "712f6dad",
   "metadata": {},
   "outputs": [],
   "source": [
    "df['Add_info_modi']=df['Additional_Info'].apply(modify_info)"
   ]
  },
  {
   "cell_type": "code",
   "execution_count": 214,
   "id": "32de2401",
   "metadata": {},
   "outputs": [
    {
     "data": {
      "text/plain": [
       "No info                         8218\n",
       "In-flight meal not included     1926\n",
       "No check-in baggage included     318\n",
       "Name: Add_info_modi, dtype: int64"
      ]
     },
     "execution_count": 214,
     "metadata": {},
     "output_type": "execute_result"
    }
   ],
   "source": [
    "df['Add_info_modi'].value_counts()"
   ]
  },
  {
   "cell_type": "code",
   "execution_count": 215,
   "id": "d6b486b8",
   "metadata": {},
   "outputs": [],
   "source": [
    "df.drop(['Additional_Info'] , axis =1 , inplace= True)"
   ]
  },
  {
   "cell_type": "code",
   "execution_count": null,
   "id": "bd8e62fe",
   "metadata": {},
   "outputs": [],
   "source": []
  },
  {
   "cell_type": "code",
   "execution_count": 216,
   "id": "91a8bf12",
   "metadata": {},
   "outputs": [
    {
     "data": {
      "text/plain": [
       "morning      5448\n",
       "afternoon    2826\n",
       "evening      2188\n",
       "Name: Period_of_day, dtype: int64"
      ]
     },
     "execution_count": 216,
     "metadata": {},
     "output_type": "execute_result"
    }
   ],
   "source": [
    "df['Period_of_day'].value_counts() #ordinal"
   ]
  },
  {
   "cell_type": "code",
   "execution_count": 217,
   "id": "019f7f75",
   "metadata": {},
   "outputs": [
    {
     "data": {
      "text/plain": [
       "1    5625\n",
       "0    3475\n",
       "2    1318\n",
       "3      43\n",
       "4       1\n",
       "Name: No_stops, dtype: int64"
      ]
     },
     "execution_count": 217,
     "metadata": {},
     "output_type": "execute_result"
    }
   ],
   "source": [
    "df['No_stops'].value_counts()"
   ]
  },
  {
   "cell_type": "code",
   "execution_count": 218,
   "id": "cc866c50",
   "metadata": {},
   "outputs": [
    {
     "data": {
      "text/plain": [
       "5    3395\n",
       "6    3311\n",
       "3    2678\n",
       "4    1078\n",
       "Name: Month, dtype: int64"
      ]
     },
     "execution_count": 218,
     "metadata": {},
     "output_type": "execute_result"
    }
   ],
   "source": [
    "df['Month'].value_counts()"
   ]
  },
  {
   "cell_type": "markdown",
   "id": "6cb9de5b",
   "metadata": {},
   "source": [
    "# Encoding"
   ]
  },
  {
   "cell_type": "code",
   "execution_count": 219,
   "id": "15c962a4",
   "metadata": {},
   "outputs": [],
   "source": [
    "from category_encoders import BinaryEncoder"
   ]
  },
  {
   "cell_type": "code",
   "execution_count": 220,
   "id": "1c344cb6",
   "metadata": {},
   "outputs": [],
   "source": [
    "encoder = BinaryEncoder()"
   ]
  },
  {
   "cell_type": "code",
   "execution_count": 221,
   "id": "343c2c7b",
   "metadata": {},
   "outputs": [
    {
     "name": "stdout",
     "output_type": "stream",
     "text": [
      "<class 'pandas.core.frame.DataFrame'>\n",
      "RangeIndex: 10462 entries, 0 to 10461\n",
      "Data columns (total 13 columns):\n",
      " #   Column           Non-Null Count  Dtype         \n",
      "---  ------           --------------  -----         \n",
      " 0   Airline          10462 non-null  object        \n",
      " 1   Date_of_Journey  10462 non-null  datetime64[ns]\n",
      " 2   Source           10462 non-null  object        \n",
      " 3   Destination      10462 non-null  object        \n",
      " 4   Price            10462 non-null  int64         \n",
      " 5   No_stops         10462 non-null  int64         \n",
      " 6   duration_modif   10462 non-null  float64       \n",
      " 7   Month            10462 non-null  int64         \n",
      " 8   Day_Name         10462 non-null  object        \n",
      " 9   Dep_Hour         10462 non-null  int64         \n",
      " 10  DEP_Minute       10462 non-null  int64         \n",
      " 11  Period_of_day    10462 non-null  object        \n",
      " 12  Add_info_modi    10462 non-null  object        \n",
      "dtypes: datetime64[ns](1), float64(1), int64(5), object(6)\n",
      "memory usage: 1.0+ MB\n"
     ]
    }
   ],
   "source": [
    "df.info()"
   ]
  },
  {
   "cell_type": "code",
   "execution_count": 222,
   "id": "fe0c3b33",
   "metadata": {},
   "outputs": [],
   "source": [
    "Transformed_Airline_Df = encoder.fit_transform(df[['Airline']])"
   ]
  },
  {
   "cell_type": "code",
   "execution_count": 223,
   "id": "ecdf4d8c",
   "metadata": {},
   "outputs": [],
   "source": [
    "df = pd.concat([df,Transformed_Airline_Df] , axis = 1 )"
   ]
  },
  {
   "cell_type": "markdown",
   "id": "3c915beb",
   "metadata": {},
   "source": [
    "####################"
   ]
  },
  {
   "cell_type": "code",
   "execution_count": 224,
   "id": "e7960399",
   "metadata": {},
   "outputs": [],
   "source": [
    "Transformed_Source_Df = encoder.fit_transform(df[['Source']])"
   ]
  },
  {
   "cell_type": "code",
   "execution_count": 225,
   "id": "3273d363",
   "metadata": {},
   "outputs": [],
   "source": [
    "df = pd.concat([df,Transformed_Source_Df] , axis = 1 )"
   ]
  },
  {
   "cell_type": "markdown",
   "id": "44c3a9f3",
   "metadata": {},
   "source": [
    "####################"
   ]
  },
  {
   "cell_type": "code",
   "execution_count": 226,
   "id": "0601f1c4",
   "metadata": {},
   "outputs": [],
   "source": [
    "Transformed_Destination_Df = encoder.fit_transform(df[['Destination']])"
   ]
  },
  {
   "cell_type": "code",
   "execution_count": 227,
   "id": "f618d5c4",
   "metadata": {},
   "outputs": [],
   "source": [
    "df = pd.concat([df,Transformed_Destination_Df] , axis = 1 )"
   ]
  },
  {
   "cell_type": "markdown",
   "id": "04bc6e04",
   "metadata": {},
   "source": [
    "#######################"
   ]
  },
  {
   "cell_type": "code",
   "execution_count": 228,
   "id": "a87090b1",
   "metadata": {},
   "outputs": [],
   "source": [
    "Transformed_Day_Name_Df = encoder.fit_transform(df[['Day_Name']])"
   ]
  },
  {
   "cell_type": "code",
   "execution_count": 229,
   "id": "4c931bb2",
   "metadata": {},
   "outputs": [],
   "source": [
    "df = pd.concat([df,Transformed_Day_Name_Df] , axis = 1 )"
   ]
  },
  {
   "cell_type": "markdown",
   "id": "af2ff7d2",
   "metadata": {},
   "source": [
    "#####################"
   ]
  },
  {
   "cell_type": "code",
   "execution_count": 230,
   "id": "d72db7ac",
   "metadata": {},
   "outputs": [],
   "source": [
    "Transformed_Add_info_modi_Df = encoder.fit_transform(df[['Add_info_modi']])"
   ]
  },
  {
   "cell_type": "code",
   "execution_count": 231,
   "id": "35ddff8b",
   "metadata": {},
   "outputs": [],
   "source": [
    "df = pd.concat([df,Transformed_Add_info_modi_Df] , axis = 1 )"
   ]
  },
  {
   "cell_type": "markdown",
   "id": "2e9bb84f",
   "metadata": {},
   "source": [
    "#############################"
   ]
  },
  {
   "cell_type": "code",
   "execution_count": 232,
   "id": "232555dc",
   "metadata": {},
   "outputs": [],
   "source": [
    "period_day = {'morning':1, \n",
    "        'afternoon':2, \n",
    "        'evening':3 }\n"
   ]
  },
  {
   "cell_type": "code",
   "execution_count": 233,
   "id": "3d98e500",
   "metadata": {},
   "outputs": [],
   "source": [
    "df['Period_of_day'] = df['Period_of_day'].map(period_day)"
   ]
  },
  {
   "cell_type": "code",
   "execution_count": 234,
   "id": "cddda400",
   "metadata": {},
   "outputs": [
    {
     "data": {
      "text/plain": [
       "0        3\n",
       "1        1\n",
       "2        1\n",
       "3        2\n",
       "4        2\n",
       "        ..\n",
       "10457    3\n",
       "10458    3\n",
       "10459    1\n",
       "10460    1\n",
       "10461    1\n",
       "Name: Period_of_day, Length: 10462, dtype: int64"
      ]
     },
     "execution_count": 234,
     "metadata": {},
     "output_type": "execute_result"
    }
   ],
   "source": [
    "df['Period_of_day']"
   ]
  },
  {
   "cell_type": "markdown",
   "id": "7a2dca83",
   "metadata": {},
   "source": [
    "#########################"
   ]
  },
  {
   "cell_type": "code",
   "execution_count": 235,
   "id": "5fc598f7",
   "metadata": {},
   "outputs": [],
   "source": [
    "df.drop(['Date_of_Journey'] , axis =1 , inplace= True)"
   ]
  },
  {
   "cell_type": "code",
   "execution_count": 236,
   "id": "e8e30292",
   "metadata": {},
   "outputs": [],
   "source": [
    "df.drop(['Airline', 'Source','Destination','Day_Name','Add_info_modi'] , axis =1 , inplace= True)"
   ]
  },
  {
   "cell_type": "markdown",
   "id": "760e4770",
   "metadata": {},
   "source": [
    "# split data"
   ]
  },
  {
   "cell_type": "code",
   "execution_count": 237,
   "id": "2ffd3016",
   "metadata": {},
   "outputs": [],
   "source": [
    "x = df.drop('Price' , axis =1)\n",
    "y = df['Price']"
   ]
  },
  {
   "cell_type": "code",
   "execution_count": 238,
   "id": "70d5c5d1",
   "metadata": {},
   "outputs": [],
   "source": [
    "from sklearn.model_selection import cross_validate\n",
    "from sklearn.metrics import r2_score"
   ]
  },
  {
   "cell_type": "code",
   "execution_count": 239,
   "id": "1861c418",
   "metadata": {},
   "outputs": [],
   "source": [
    "models= list()\n",
    "models.append(('LR', LinearRegression()))\n",
    "models.append (('DT', DecisionTreeRegressor()))\n",
    "models.append(('RFR', RandomForestRegressor()))\n",
    "models. append(('XGB', XGBRegressor()))"
   ]
  },
  {
   "cell_type": "code",
   "execution_count": 240,
   "id": "84b9c7cf",
   "metadata": {},
   "outputs": [
    {
     "name": "stdout",
     "output_type": "stream",
     "text": [
      "LR\n",
      "r2 train is  0.5542191614514609\n",
      "r2 test is  0.5524455759682182\n",
      "DT\n",
      "r2 train is  0.9755377066089752\n",
      "r2 test is  0.695637995791887\n",
      "RFR\n",
      "r2 train is  0.9570004796515323\n",
      "r2 test is  0.8068459207048251\n",
      "XGB\n",
      "r2 train is  0.935344725135827\n",
      "r2 test is  0.8261058080978485\n"
     ]
    }
   ],
   "source": [
    "for model in models:\n",
    "    steps = list()\n",
    "    steps.append(('scaler', RobustScaler()))\n",
    "    steps.append(model)\n",
    "    pipeline= Pipeline(steps= steps)\n",
    "    scores= cross_validate(pipeline,x,y, cv=5,scoring= 'r2', return_train_score=True )\n",
    "    print(model[0])\n",
    "    print(\"r2 train is \" ,scores[\"train_score\"].mean() )\n",
    "    print(\"r2 test is \" , scores[\"test_score\"].mean())\n",
    "    \n",
    "    "
   ]
  },
  {
   "cell_type": "code",
   "execution_count": 375,
   "id": "c2c94999",
   "metadata": {},
   "outputs": [],
   "source": [
    "steps = list()\n",
    "steps.append(('scaler', RobustScaler()))\n",
    "steps.append(('XGB', XGBRegressor(n_estimators=30 , max_depth=6,max_leaves=40)))\n",
    "pipeline= Pipeline(steps= steps)"
   ]
  },
  {
   "cell_type": "code",
   "execution_count": 376,
   "id": "cdcd4f4b",
   "metadata": {},
   "outputs": [
    {
     "name": "stdout",
     "output_type": "stream",
     "text": [
      "r2 train is  0.8851469333324818\n",
      "r2 test is  0.823109561840196\n"
     ]
    }
   ],
   "source": [
    "scores= cross_validate(pipeline,x,y, cv=5,scoring= 'r2', return_train_score=True)\n",
    "print(\"r2 train is \" ,scores[\"train_score\"].mean() )\n",
    "print(\"r2 test is \" , scores[\"test_score\"].mean())\n",
    "    "
   ]
  },
  {
   "cell_type": "code",
   "execution_count": null,
   "id": "3f6468cb",
   "metadata": {},
   "outputs": [],
   "source": []
  }
 ],
 "metadata": {
  "kernelspec": {
   "display_name": "Python 3 (ipykernel)",
   "language": "python",
   "name": "python3"
  },
  "language_info": {
   "codemirror_mode": {
    "name": "ipython",
    "version": 3
   },
   "file_extension": ".py",
   "mimetype": "text/x-python",
   "name": "python",
   "nbconvert_exporter": "python",
   "pygments_lexer": "ipython3",
   "version": "3.9.1"
  }
 },
 "nbformat": 4,
 "nbformat_minor": 5
}
